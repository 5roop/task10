{
 "cells": [
  {
   "cell_type": "markdown",
   "metadata": {},
   "source": [
    "Prepare fasttext file"
   ]
  },
  {
   "cell_type": "code",
   "execution_count": 1,
   "metadata": {},
   "outputs": [
    {
     "data": {
      "text/plain": [
       "Index(['sentence', 'country', 'type', 'annotator1', 'annotator2', 'gold',\n",
       "       'reconciliation_hard', 'id_meta', 'term', 'doc_id', 'sentence_id',\n",
       "       'date', 'fullname', 'party', 'gender', 'yob', 'edu_y', 'ideology',\n",
       "       'no_seats', 'ruling', 'label', 'origin', 'split'],\n",
       "      dtype='object')"
      ]
     },
     "execution_count": 1,
     "metadata": {},
     "output_type": "execute_result"
    }
   ],
   "source": [
    "import pandas as pd\n",
    "data = pd.read_json(\"bcs_polsent.jsonl\", orient=\"records\", lines=True)\n",
    "data.columns"
   ]
  },
  {
   "cell_type": "code",
   "execution_count": 2,
   "metadata": {},
   "outputs": [],
   "source": [
    "data = data.loc[ :, [\"sentence\", \"label\", \"split\", \"country\"]]\n"
   ]
  },
  {
   "cell_type": "code",
   "execution_count": 3,
   "metadata": {},
   "outputs": [],
   "source": [
    "train = data[data.split==\"train\"]\n",
    "test = data[data.split==\"test\"]\n",
    "dev = data[data.split==\"dev\"]"
   ]
  },
  {
   "cell_type": "code",
   "execution_count": 4,
   "metadata": {},
   "outputs": [
    {
     "name": "stdout",
     "output_type": "stream",
     "text": [
      "mkdir: cannot create directory ‘fasttext_data’: File exists\n"
     ]
    }
   ],
   "source": [
    "!mkdir fasttext_data"
   ]
  },
  {
   "cell_type": "code",
   "execution_count": 5,
   "metadata": {},
   "outputs": [],
   "source": [
    "with open(\"fasttext_data/train.txt\", \"w\") as f:\n",
    "    for i, row in train.iterrows():\n",
    "        f.write(f\"__label__{row['label']} {row['sentence']}\\n\")\n",
    "with open(\"fasttext_data/test.txt\", \"w\") as f:\n",
    "    for i, row in test.iterrows():\n",
    "        f.write(f\"__label__{row['label']} {row['sentence']}\\n\")\n",
    "with open(\"fasttext_data/dev.txt\", \"w\") as f:\n",
    "    for i, row in dev.iterrows():\n",
    "        f.write(f\"__label__{row['label']} {row['sentence']}\\n\")"
   ]
  },
  {
   "cell_type": "code",
   "execution_count": 6,
   "metadata": {},
   "outputs": [],
   "source": [
    "import fasttext"
   ]
  },
  {
   "cell_type": "markdown",
   "metadata": {},
   "source": [
    "Fasttext embeddings obtained from http://hdl.handle.net/11356/1205"
   ]
  },
  {
   "cell_type": "code",
   "execution_count": 7,
   "metadata": {},
   "outputs": [
    {
     "name": "stdout",
     "output_type": "stream",
     "text": [
      "macro f1 on test: 0.4733 +/- 0.0086, sample of 50\n"
     ]
    }
   ],
   "source": [
    "import numpy as np\n",
    "from sklearn.metrics import f1_score\n",
    "f1s = []\n",
    "for i in range(50):\n",
    "    model = fasttext.train_supervised(input=\"fasttext_data/train.txt\", epoch = 16)\n",
    "    y_pred = model.predict(test.sentence.tolist())[0]\n",
    "    y_pred = [i[0][9:] for i in y_pred]\n",
    "    y_true = test.label.tolist()\n",
    "\n",
    "    f1 = f1_score(\n",
    "        y_true, y_pred, average=\"macro\", labels=[\"Positive\", \"Neutral\", \"Negative\"]\n",
    "    )\n",
    "    f1s.append(f1)\n",
    "\n",
    "print(f\"macro f1 on test: {np.mean(f1s):0.4f} +/- {np.std(f1s):0.4f}, sample of {len(f1s)}\")"
   ]
  },
  {
   "cell_type": "code",
   "execution_count": 9,
   "metadata": {},
   "outputs": [
    {
     "data": {
      "image/png": "[encoded data removed]",
      "text/plain": [
       "<Figure size 252x189 with 2 Axes>"
      ]
     },
     "metadata": {
      "needs_background": "light"
     },
     "output_type": "display_data"
    }
   ],
   "source": [
    "import matplotlib.pyplot as plt\n",
    "from sklearn.metrics import ConfusionMatrixDisplay\n",
    "plt.style.use(\"science no-latex\".split())\n",
    "\n",
    "ConfusionMatrixDisplay.from_predictions(\n",
    "   y_true, y_pred, cmap=\"Oranges\", labels=[\"Negative\", \"Neutral\", \"Positive\"])\n",
    "plt.title(\"fasttext on test, 16 epochs\")\n",
    "plt.savefig(\"images/004_CM_fasttext.png\")\n",
    "plt.savefig(\"images/004_CM_fasttext.pdf\")\n",
    "plt.show()"
   ]
  },
  {
   "cell_type": "code",
   "execution_count": 10,
   "metadata": {},
   "outputs": [
    {
     "data": {
      "application/vnd.jupyter.widget-view+json": {
       "model_id": "51973a6cf13946d9ba1df99f0276ea47",
       "version_major": 2,
       "version_minor": 0
      },
      "text/plain": [
       "  0%|          | 0/10 [00:00<?, ?it/s]"
      ]
     },
     "metadata": {},
     "output_type": "display_data"
    }
   ],
   "source": [
    "import numpy as np\n",
    "from sklearn.metrics import f1_score\n",
    "\n",
    "f1s = []\n",
    "from tqdm.auto import tqdm\n",
    "for i in tqdm(range(10)):\n",
    "    model = fasttext.train_supervised(\n",
    "        input=\"fasttext_data/train.txt\",\n",
    "        epoch=5,\n",
    "        pretrainedVectors=\"fasttext_embeddings/embed.hr-token.ft.sg.vec\",\n",
    "    )\n",
    "    y_pred = model.predict(test.sentence.tolist())[0]\n",
    "    y_pred = [i[0][9:] for i in y_pred]\n",
    "    y_true = test.label.tolist()\n",
    "\n",
    "    f1 = f1_score(\n",
    "        y_true, y_pred, average=\"macro\", labels=[\"Positive\", \"Neutral\", \"Negative\"]\n",
    "    )\n",
    "    f1s.append(f1)\n",
    "\n",
    "print(\n",
    "    f\"macro f1 with embeddings on test: {np.mean(f1s):0.4f} +/- {np.std(f1s):0.4f}, sample of {len(f1s)}\"\n",
    ")\n"
   ]
  },
  {
   "cell_type": "code",
   "execution_count": null,
   "metadata": {},
   "outputs": [],
   "source": [
    "import matplotlib.pyplot as plt\n",
    "from sklearn.metrics import ConfusionMatrixDisplay\n",
    "plt.style.use(\"science no-latex\".split())\n",
    "\n",
    "ConfusionMatrixDisplay.from_predictions(\n",
    "   y_true, y_pred, cmap=\"Oranges\", labels=[\"Negative\", \"Neutral\", \"Positive\"])\n",
    "plt.title(\"fasttext on test, 5 epochs, with embeddings\")\n",
    "plt.savefig(\"images/004_CM_fasttext_with_embeddings.png\")\n",
    "plt.savefig(\"images/004_CM_fasttext_with_embeddings.pdf\")\n",
    "plt.show()"
   ]
  },
  {
   "cell_type": "code",
   "execution_count": null,
   "metadata": {},
   "outputs": [],
   "source": []
  }
 ],
 "metadata": {
  "interpreter": {
   "hash": "7f6f5766036ee03d059e365a942add07f79c17033585e9357ee8157d52fe6bb9"
  },
  "kernelspec": {
   "display_name": "Python 3.8.3 ('base')",
   "language": "python",
   "name": "python3"
  },
  "language_info": {
   "codemirror_mode": {
    "name": "ipython",
    "version": 3
   },
   "file_extension": ".py",
   "mimetype": "text/x-python",
   "name": "python",
   "nbconvert_exporter": "python",
   "pygments_lexer": "ipython3",
   "version": "3.8.3"
  },
  "orig_nbformat": 4
 },
 "nbformat": 4,
 "nbformat_minor": 2
}
