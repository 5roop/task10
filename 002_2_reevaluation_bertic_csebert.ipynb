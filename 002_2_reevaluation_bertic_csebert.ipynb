{
 "cells": [
  {
   "cell_type": "code",
   "execution_count": 3,
   "metadata": {},
   "outputs": [
    {
     "data": {
      "text/plain": [
       "(78, 6)"
      ]
     },
     "execution_count": 3,
     "metadata": {},
     "output_type": "execute_result"
    }
   ],
   "source": [
    "import pandas as pd\n",
    "\n",
    "df = pd.read_csv(\"002_results_dev_test.csv\")\n",
    "df.shape\n"
   ]
  },
  {
   "cell_type": "code",
   "execution_count": 4,
   "metadata": {},
   "outputs": [
    {
     "data": {
      "text/plain": [
       "6.0"
      ]
     },
     "execution_count": 4,
     "metadata": {},
     "output_type": "execute_result"
    }
   ],
   "source": [
    "78/13"
   ]
  },
  {
   "cell_type": "code",
   "execution_count": 5,
   "metadata": {},
   "outputs": [],
   "source": [
    "df[\"epoch\"] = [3,3,5,5,7,7,9,9,11,11,13,13,15,15,18,18,22,22,33, 33, 40,44,45, 45,50, 50] * 3\n"
   ]
  },
  {
   "cell_type": "code",
   "execution_count": 6,
   "metadata": {},
   "outputs": [],
   "source": [
    "\n",
    "df.to_csv(\"002_results_dev_test.csv\", index=False)"
   ]
  },
  {
   "cell_type": "code",
   "execution_count": 7,
   "metadata": {},
   "outputs": [
    {
     "data": {
      "text/html": [
       "<div>\n",
       "<style scoped>\n",
       "    .dataframe tbody tr th:only-of-type {\n",
       "        vertical-align: middle;\n",
       "    }\n",
       "\n",
       "    .dataframe tbody tr th {\n",
       "        vertical-align: top;\n",
       "    }\n",
       "\n",
       "    .dataframe thead th {\n",
       "        text-align: right;\n",
       "    }\n",
       "</style>\n",
       "<table border=\"1\" class=\"dataframe\">\n",
       "  <thead>\n",
       "    <tr style=\"text-align: right;\">\n",
       "      <th></th>\n",
       "      <th>macroF1</th>\n",
       "      <th>y_true</th>\n",
       "      <th>y_pred</th>\n",
       "      <th>eval_split</th>\n",
       "      <th>model_name</th>\n",
       "      <th>epoch</th>\n",
       "    </tr>\n",
       "  </thead>\n",
       "  <tbody>\n",
       "    <tr>\n",
       "      <th>0</th>\n",
       "      <td>0.791534</td>\n",
       "      <td>['Neutral', 'Positive', 'Neutral', 'Positive',...</td>\n",
       "      <td>['Neutral', 'Positive', 'Negative', 'Positive'...</td>\n",
       "      <td>dev</td>\n",
       "      <td>classla/bcms-bertic</td>\n",
       "      <td>3</td>\n",
       "    </tr>\n",
       "    <tr>\n",
       "      <th>1</th>\n",
       "      <td>0.792694</td>\n",
       "      <td>['Negative', 'Negative', 'Negative', 'Positive...</td>\n",
       "      <td>['Negative', 'Negative', 'Negative', 'Positive...</td>\n",
       "      <td>test</td>\n",
       "      <td>classla/bcms-bertic</td>\n",
       "      <td>3</td>\n",
       "    </tr>\n",
       "  </tbody>\n",
       "</table>\n",
       "</div>"
      ],
      "text/plain": [
       "    macroF1                                             y_true  \\\n",
       "0  0.791534  ['Neutral', 'Positive', 'Neutral', 'Positive',...   \n",
       "1  0.792694  ['Negative', 'Negative', 'Negative', 'Positive...   \n",
       "\n",
       "                                              y_pred eval_split  \\\n",
       "0  ['Neutral', 'Positive', 'Negative', 'Positive'...        dev   \n",
       "1  ['Negative', 'Negative', 'Negative', 'Positive...       test   \n",
       "\n",
       "            model_name  epoch  \n",
       "0  classla/bcms-bertic      3  \n",
       "1  classla/bcms-bertic      3  "
      ]
     },
     "execution_count": 7,
     "metadata": {},
     "output_type": "execute_result"
    }
   ],
   "source": [
    "df.head(2)"
   ]
  },
  {
   "cell_type": "code",
   "execution_count": 8,
   "metadata": {},
   "outputs": [
    {
     "data": {
      "image/png": "[encoded data removed]",
      "text/plain": [
       "<Figure size 432x432 with 1 Axes>"
      ]
     },
     "metadata": {
      "needs_background": "light"
     },
     "output_type": "display_data"
    }
   ],
   "source": [
    "import matplotlib.pyplot as plt\n",
    "\n",
    "plt.style.use(\"science no-latex\".split())\n",
    "plt.figure(figsize=(6, 6))\n",
    "for split in [\"dev\", \"test\"]:\n",
    "    import numpy as np\n",
    "\n",
    "    gb = df[df.eval_split == split].groupby(\"epoch\").agg([np.mean, np.std])\n",
    "    plt.errorbar(\n",
    "        gb.index,\n",
    "        gb[(\"macroF1\", \"mean\")],\n",
    "        yerr=gb[(\"macroF1\", \"std\")],\n",
    "        label=split,\n",
    "        capsize=5,\n",
    "        fmt=\"-x\"\n",
    "    )\n",
    "plt.legend()\n",
    "plt.show()\n"
   ]
  },
  {
   "cell_type": "code",
   "execution_count": 9,
   "metadata": {},
   "outputs": [
    {
     "data": {
      "text/html": [
       "<div>\n",
       "<style scoped>\n",
       "    .dataframe tbody tr th:only-of-type {\n",
       "        vertical-align: middle;\n",
       "    }\n",
       "\n",
       "    .dataframe tbody tr th {\n",
       "        vertical-align: top;\n",
       "    }\n",
       "\n",
       "    .dataframe thead tr th {\n",
       "        text-align: left;\n",
       "    }\n",
       "\n",
       "    .dataframe thead tr:last-of-type th {\n",
       "        text-align: right;\n",
       "    }\n",
       "</style>\n",
       "<table border=\"1\" class=\"dataframe\">\n",
       "  <thead>\n",
       "    <tr>\n",
       "      <th></th>\n",
       "      <th colspan=\"2\" halign=\"left\">macroF1</th>\n",
       "    </tr>\n",
       "    <tr>\n",
       "      <th></th>\n",
       "      <th>mean</th>\n",
       "      <th>std</th>\n",
       "    </tr>\n",
       "    <tr>\n",
       "      <th>epoch</th>\n",
       "      <th></th>\n",
       "      <th></th>\n",
       "    </tr>\n",
       "  </thead>\n",
       "  <tbody>\n",
       "    <tr>\n",
       "      <th>3</th>\n",
       "      <td>0.786849</td>\n",
       "      <td>0.008617</td>\n",
       "    </tr>\n",
       "    <tr>\n",
       "      <th>5</th>\n",
       "      <td>0.794549</td>\n",
       "      <td>0.003541</td>\n",
       "    </tr>\n",
       "    <tr>\n",
       "      <th>7</th>\n",
       "      <td>0.791288</td>\n",
       "      <td>0.007869</td>\n",
       "    </tr>\n",
       "    <tr>\n",
       "      <th>9</th>\n",
       "      <td>0.789944</td>\n",
       "      <td>0.018806</td>\n",
       "    </tr>\n",
       "    <tr>\n",
       "      <th>11</th>\n",
       "      <td>0.784999</td>\n",
       "      <td>0.019990</td>\n",
       "    </tr>\n",
       "    <tr>\n",
       "      <th>13</th>\n",
       "      <td>0.787823</td>\n",
       "      <td>0.005759</td>\n",
       "    </tr>\n",
       "    <tr>\n",
       "      <th>15</th>\n",
       "      <td>0.779151</td>\n",
       "      <td>0.010613</td>\n",
       "    </tr>\n",
       "    <tr>\n",
       "      <th>18</th>\n",
       "      <td>0.792210</td>\n",
       "      <td>0.009911</td>\n",
       "    </tr>\n",
       "    <tr>\n",
       "      <th>22</th>\n",
       "      <td>0.782053</td>\n",
       "      <td>0.009796</td>\n",
       "    </tr>\n",
       "    <tr>\n",
       "      <th>33</th>\n",
       "      <td>0.776059</td>\n",
       "      <td>0.001717</td>\n",
       "    </tr>\n",
       "    <tr>\n",
       "      <th>44</th>\n",
       "      <td>0.760616</td>\n",
       "      <td>0.017443</td>\n",
       "    </tr>\n",
       "    <tr>\n",
       "      <th>45</th>\n",
       "      <td>0.771868</td>\n",
       "      <td>0.017344</td>\n",
       "    </tr>\n",
       "    <tr>\n",
       "      <th>50</th>\n",
       "      <td>0.764728</td>\n",
       "      <td>0.017463</td>\n",
       "    </tr>\n",
       "  </tbody>\n",
       "</table>\n",
       "</div>"
      ],
      "text/plain": [
       "        macroF1          \n",
       "           mean       std\n",
       "epoch                    \n",
       "3      0.786849  0.008617\n",
       "5      0.794549  0.003541\n",
       "7      0.791288  0.007869\n",
       "9      0.789944  0.018806\n",
       "11     0.784999  0.019990\n",
       "13     0.787823  0.005759\n",
       "15     0.779151  0.010613\n",
       "18     0.792210  0.009911\n",
       "22     0.782053  0.009796\n",
       "33     0.776059  0.001717\n",
       "44     0.760616  0.017443\n",
       "45     0.771868  0.017344\n",
       "50     0.764728  0.017463"
      ]
     },
     "execution_count": 9,
     "metadata": {},
     "output_type": "execute_result"
    }
   ],
   "source": [
    "gb"
   ]
  },
  {
   "cell_type": "code",
   "execution_count": 6,
   "metadata": {},
   "outputs": [],
   "source": [
    "import pandas as pd\n",
    "\n",
    "with open(\"002_results_dev_test_csebert.jsonl\", \"r\") as f:\n",
    "    contents = f.readlines()\n",
    "from ast import literal_eval\n",
    "contents = [literal_eval(i) for i in contents]\n",
    "\n",
    "df = pd.DataFrame(data=contents)"
   ]
  },
  {
   "cell_type": "code",
   "execution_count": 7,
   "metadata": {},
   "outputs": [
    {
     "data": {
      "text/plain": [
       "(73, 6)"
      ]
     },
     "execution_count": 7,
     "metadata": {},
     "output_type": "execute_result"
    }
   ],
   "source": [
    "df.shape"
   ]
  },
  {
   "cell_type": "code",
   "execution_count": 8,
   "metadata": {},
   "outputs": [
    {
     "data": {
      "text/html": [
       "<div>\n",
       "<style scoped>\n",
       "    .dataframe tbody tr th:only-of-type {\n",
       "        vertical-align: middle;\n",
       "    }\n",
       "\n",
       "    .dataframe tbody tr th {\n",
       "        vertical-align: top;\n",
       "    }\n",
       "\n",
       "    .dataframe thead th {\n",
       "        text-align: right;\n",
       "    }\n",
       "</style>\n",
       "<table border=\"1\" class=\"dataframe\">\n",
       "  <thead>\n",
       "    <tr style=\"text-align: right;\">\n",
       "      <th></th>\n",
       "      <th>macroF1</th>\n",
       "      <th>y_true</th>\n",
       "      <th>y_pred</th>\n",
       "      <th>eval_split</th>\n",
       "      <th>model_name</th>\n",
       "      <th>epoch</th>\n",
       "    </tr>\n",
       "  </thead>\n",
       "  <tbody>\n",
       "    <tr>\n",
       "      <th>0</th>\n",
       "      <td>0.851509</td>\n",
       "      <td>[Neutral, Positive, Neutral, Positive, Neutral...</td>\n",
       "      <td>[Neutral, Positive, Negative, Positive, Neutra...</td>\n",
       "      <td>dev</td>\n",
       "      <td>EMBEDDIA/crosloengual-bert</td>\n",
       "      <td>3</td>\n",
       "    </tr>\n",
       "    <tr>\n",
       "      <th>1</th>\n",
       "      <td>0.772820</td>\n",
       "      <td>[Negative, Negative, Negative, Positive, Negat...</td>\n",
       "      <td>[Negative, Negative, Negative, Positive, Negat...</td>\n",
       "      <td>test</td>\n",
       "      <td>EMBEDDIA/crosloengual-bert</td>\n",
       "      <td>3</td>\n",
       "    </tr>\n",
       "    <tr>\n",
       "      <th>2</th>\n",
       "      <td>0.817778</td>\n",
       "      <td>[Neutral, Positive, Neutral, Positive, Neutral...</td>\n",
       "      <td>[Neutral, Positive, Negative, Positive, Neutra...</td>\n",
       "      <td>dev</td>\n",
       "      <td>EMBEDDIA/crosloengual-bert</td>\n",
       "      <td>5</td>\n",
       "    </tr>\n",
       "    <tr>\n",
       "      <th>3</th>\n",
       "      <td>0.756204</td>\n",
       "      <td>[Negative, Negative, Negative, Positive, Negat...</td>\n",
       "      <td>[Negative, Negative, Negative, Positive, Negat...</td>\n",
       "      <td>test</td>\n",
       "      <td>EMBEDDIA/crosloengual-bert</td>\n",
       "      <td>5</td>\n",
       "    </tr>\n",
       "    <tr>\n",
       "      <th>4</th>\n",
       "      <td>0.828294</td>\n",
       "      <td>[Neutral, Positive, Neutral, Positive, Neutral...</td>\n",
       "      <td>[Neutral, Positive, Negative, Positive, Neutra...</td>\n",
       "      <td>dev</td>\n",
       "      <td>EMBEDDIA/crosloengual-bert</td>\n",
       "      <td>7</td>\n",
       "    </tr>\n",
       "  </tbody>\n",
       "</table>\n",
       "</div>"
      ],
      "text/plain": [
       "    macroF1                                             y_true  \\\n",
       "0  0.851509  [Neutral, Positive, Neutral, Positive, Neutral...   \n",
       "1  0.772820  [Negative, Negative, Negative, Positive, Negat...   \n",
       "2  0.817778  [Neutral, Positive, Neutral, Positive, Neutral...   \n",
       "3  0.756204  [Negative, Negative, Negative, Positive, Negat...   \n",
       "4  0.828294  [Neutral, Positive, Neutral, Positive, Neutral...   \n",
       "\n",
       "                                              y_pred eval_split  \\\n",
       "0  [Neutral, Positive, Negative, Positive, Neutra...        dev   \n",
       "1  [Negative, Negative, Negative, Positive, Negat...       test   \n",
       "2  [Neutral, Positive, Negative, Positive, Neutra...        dev   \n",
       "3  [Negative, Negative, Negative, Positive, Negat...       test   \n",
       "4  [Neutral, Positive, Negative, Positive, Neutra...        dev   \n",
       "\n",
       "                   model_name  epoch  \n",
       "0  EMBEDDIA/crosloengual-bert      3  \n",
       "1  EMBEDDIA/crosloengual-bert      3  \n",
       "2  EMBEDDIA/crosloengual-bert      5  \n",
       "3  EMBEDDIA/crosloengual-bert      5  \n",
       "4  EMBEDDIA/crosloengual-bert      7  "
      ]
     },
     "execution_count": 8,
     "metadata": {},
     "output_type": "execute_result"
    }
   ],
   "source": [
    "from sklearn.metrics import f1_score\n",
    "\n",
    "df[\"macroF1\"] = df.apply(\n",
    "    lambda row: f1_score(row[\"y_true\"],\n",
    "    row[\"y_pred\"], average=\"macro\", labels = \"Positive Negative Neutral\".split()\n",
    "    ), axis=1\n",
    ")\n",
    "df.head()"
   ]
  },
  {
   "cell_type": "code",
   "execution_count": 9,
   "metadata": {},
   "outputs": [
    {
     "data": {
      "image/png": "[encoded data removed]",
      "text/plain": [
       "<Figure size 432x432 with 1 Axes>"
      ]
     },
     "metadata": {
      "needs_background": "light"
     },
     "output_type": "display_data"
    }
   ],
   "source": [
    "import matplotlib.pyplot as plt\n",
    "import numpy as np\n",
    "plt.style.use(\"science no-latex\".split())\n",
    "plt.figure(figsize=(6, 6))\n",
    "for split in [\"dev\", \"test\"]:\n",
    "    import numpy as np\n",
    "\n",
    "    gb = df[df.eval_split == split].groupby(\"epoch\").agg([np.mean, np.std])\n",
    "    plt.errorbar(\n",
    "        gb.index,\n",
    "        gb[(\"macroF1\", \"mean\")],\n",
    "        yerr=gb[(\"macroF1\", \"std\")],\n",
    "        label=split,\n",
    "        capsize=5,\n",
    "        fmt=\"-x\"\n",
    "    )\n",
    "plt.legend()\n",
    "plt.show()\n"
   ]
  },
  {
   "cell_type": "code",
   "execution_count": 10,
   "metadata": {},
   "outputs": [
    {
     "data": {
      "text/html": [
       "<div>\n",
       "<style scoped>\n",
       "    .dataframe tbody tr th:only-of-type {\n",
       "        vertical-align: middle;\n",
       "    }\n",
       "\n",
       "    .dataframe tbody tr th {\n",
       "        vertical-align: top;\n",
       "    }\n",
       "\n",
       "    .dataframe thead tr th {\n",
       "        text-align: left;\n",
       "    }\n",
       "\n",
       "    .dataframe thead tr:last-of-type th {\n",
       "        text-align: right;\n",
       "    }\n",
       "</style>\n",
       "<table border=\"1\" class=\"dataframe\">\n",
       "  <thead>\n",
       "    <tr>\n",
       "      <th></th>\n",
       "      <th></th>\n",
       "      <th colspan=\"2\" halign=\"left\">macroF1</th>\n",
       "    </tr>\n",
       "    <tr>\n",
       "      <th></th>\n",
       "      <th></th>\n",
       "      <th>mean</th>\n",
       "      <th>std</th>\n",
       "    </tr>\n",
       "    <tr>\n",
       "      <th>eval_split</th>\n",
       "      <th>epoch</th>\n",
       "      <th></th>\n",
       "      <th></th>\n",
       "    </tr>\n",
       "  </thead>\n",
       "  <tbody>\n",
       "    <tr>\n",
       "      <th rowspan=\"13\" valign=\"top\">dev</th>\n",
       "      <th>3</th>\n",
       "      <td>0.836484</td>\n",
       "      <td>0.015212</td>\n",
       "    </tr>\n",
       "    <tr>\n",
       "      <th>5</th>\n",
       "      <td>0.834692</td>\n",
       "      <td>0.031676</td>\n",
       "    </tr>\n",
       "    <tr>\n",
       "      <th>7</th>\n",
       "      <td>0.826683</td>\n",
       "      <td>0.005005</td>\n",
       "    </tr>\n",
       "    <tr>\n",
       "      <th>9</th>\n",
       "      <td>0.827573</td>\n",
       "      <td>0.009424</td>\n",
       "    </tr>\n",
       "    <tr>\n",
       "      <th>11</th>\n",
       "      <td>0.801535</td>\n",
       "      <td>0.025100</td>\n",
       "    </tr>\n",
       "    <tr>\n",
       "      <th>13</th>\n",
       "      <td>0.816884</td>\n",
       "      <td>0.010207</td>\n",
       "    </tr>\n",
       "    <tr>\n",
       "      <th>15</th>\n",
       "      <td>0.818659</td>\n",
       "      <td>0.017515</td>\n",
       "    </tr>\n",
       "    <tr>\n",
       "      <th>18</th>\n",
       "      <td>0.829877</td>\n",
       "      <td>0.026008</td>\n",
       "    </tr>\n",
       "    <tr>\n",
       "      <th>22</th>\n",
       "      <td>0.818271</td>\n",
       "      <td>0.010136</td>\n",
       "    </tr>\n",
       "    <tr>\n",
       "      <th>33</th>\n",
       "      <td>0.772422</td>\n",
       "      <td>0.007619</td>\n",
       "    </tr>\n",
       "    <tr>\n",
       "      <th>40</th>\n",
       "      <td>0.781304</td>\n",
       "      <td>0.027464</td>\n",
       "    </tr>\n",
       "    <tr>\n",
       "      <th>45</th>\n",
       "      <td>0.809853</td>\n",
       "      <td>0.002849</td>\n",
       "    </tr>\n",
       "    <tr>\n",
       "      <th>50</th>\n",
       "      <td>0.790091</td>\n",
       "      <td>0.041500</td>\n",
       "    </tr>\n",
       "    <tr>\n",
       "      <th rowspan=\"13\" valign=\"top\">test</th>\n",
       "      <th>3</th>\n",
       "      <td>0.761964</td>\n",
       "      <td>0.009272</td>\n",
       "    </tr>\n",
       "    <tr>\n",
       "      <th>5</th>\n",
       "      <td>0.759246</td>\n",
       "      <td>0.003601</td>\n",
       "    </tr>\n",
       "    <tr>\n",
       "      <th>7</th>\n",
       "      <td>0.764883</td>\n",
       "      <td>0.005211</td>\n",
       "    </tr>\n",
       "    <tr>\n",
       "      <th>9</th>\n",
       "      <td>0.763925</td>\n",
       "      <td>0.009870</td>\n",
       "    </tr>\n",
       "    <tr>\n",
       "      <th>11</th>\n",
       "      <td>0.747749</td>\n",
       "      <td>0.012099</td>\n",
       "    </tr>\n",
       "    <tr>\n",
       "      <th>13</th>\n",
       "      <td>0.743947</td>\n",
       "      <td>0.009318</td>\n",
       "    </tr>\n",
       "    <tr>\n",
       "      <th>15</th>\n",
       "      <td>0.761871</td>\n",
       "      <td>0.011156</td>\n",
       "    </tr>\n",
       "    <tr>\n",
       "      <th>18</th>\n",
       "      <td>0.758265</td>\n",
       "      <td>0.025791</td>\n",
       "    </tr>\n",
       "    <tr>\n",
       "      <th>22</th>\n",
       "      <td>0.759150</td>\n",
       "      <td>0.011897</td>\n",
       "    </tr>\n",
       "    <tr>\n",
       "      <th>33</th>\n",
       "      <td>0.747902</td>\n",
       "      <td>0.018017</td>\n",
       "    </tr>\n",
       "    <tr>\n",
       "      <th>40</th>\n",
       "      <td>0.734175</td>\n",
       "      <td>0.011258</td>\n",
       "    </tr>\n",
       "    <tr>\n",
       "      <th>45</th>\n",
       "      <td>0.743095</td>\n",
       "      <td>0.005429</td>\n",
       "    </tr>\n",
       "    <tr>\n",
       "      <th>50</th>\n",
       "      <td>0.739391</td>\n",
       "      <td>0.016079</td>\n",
       "    </tr>\n",
       "  </tbody>\n",
       "</table>\n",
       "</div>"
      ],
      "text/plain": [
       "                   macroF1          \n",
       "                      mean       std\n",
       "eval_split epoch                    \n",
       "dev        3      0.836484  0.015212\n",
       "           5      0.834692  0.031676\n",
       "           7      0.826683  0.005005\n",
       "           9      0.827573  0.009424\n",
       "           11     0.801535  0.025100\n",
       "           13     0.816884  0.010207\n",
       "           15     0.818659  0.017515\n",
       "           18     0.829877  0.026008\n",
       "           22     0.818271  0.010136\n",
       "           33     0.772422  0.007619\n",
       "           40     0.781304  0.027464\n",
       "           45     0.809853  0.002849\n",
       "           50     0.790091  0.041500\n",
       "test       3      0.761964  0.009272\n",
       "           5      0.759246  0.003601\n",
       "           7      0.764883  0.005211\n",
       "           9      0.763925  0.009870\n",
       "           11     0.747749  0.012099\n",
       "           13     0.743947  0.009318\n",
       "           15     0.761871  0.011156\n",
       "           18     0.758265  0.025791\n",
       "           22     0.759150  0.011897\n",
       "           33     0.747902  0.018017\n",
       "           40     0.734175  0.011258\n",
       "           45     0.743095  0.005429\n",
       "           50     0.739391  0.016079"
      ]
     },
     "execution_count": 10,
     "metadata": {},
     "output_type": "execute_result"
    }
   ],
   "source": [
    "df.groupby(\"eval_split,epoch\".split(\",\")).agg([np.mean, np.std])"
   ]
  },
  {
   "cell_type": "code",
   "execution_count": 14,
   "metadata": {},
   "outputs": [
    {
     "data": {
      "text/plain": [
       "-0.016605555594379408"
      ]
     },
     "execution_count": 14,
     "metadata": {},
     "output_type": "execute_result"
    }
   ],
   "source": [
    "10*np.log10((0.761964)/(0.764883))"
   ]
  },
  {
   "cell_type": "code",
   "execution_count": null,
   "metadata": {},
   "outputs": [],
   "source": []
  }
 ],
 "metadata": {
  "interpreter": {
   "hash": "7f6f5766036ee03d059e365a942add07f79c17033585e9357ee8157d52fe6bb9"
  },
  "kernelspec": {
   "display_name": "Python 3.8.3 ('base')",
   "language": "python",
   "name": "python3"
  },
  "language_info": {
   "codemirror_mode": {
    "name": "ipython",
    "version": 3
   },
   "file_extension": ".py",
   "mimetype": "text/x-python",
   "name": "python",
   "nbconvert_exporter": "python",
   "pygments_lexer": "ipython3",
   "version": "3.8.3"
  },
  "orig_nbformat": 4
 },
 "nbformat": 4,
 "nbformat_minor": 2
}
