{
 "cells": [
  {
   "cell_type": "markdown",
   "metadata": {},
   "source": [
    "This notebook logs the preparation of the bcs sentiment analysis datases. \n",
    "\n",
    "# Preliminary exploration and corrections\n",
    "\n",
    "* Dataset is based on the file `\"bcs_polsent_20220502.xlsx\"`, sent to peter.rupnik@ijs.si 2022-05-02T22:50+02:00.\n",
    "* As agreed in a Skype meeting only the first sheet will be used and labels will be downcast to 3 (positive, negative, neutral).\n",
    "\n"
   ]
  },
  {
   "cell_type": "code",
   "execution_count": 1,
   "metadata": {},
   "outputs": [
    {
     "data": {
      "text/html": [
       "<div>\n",
       "<style scoped>\n",
       "    .dataframe tbody tr th:only-of-type {\n",
       "        vertical-align: middle;\n",
       "    }\n",
       "\n",
       "    .dataframe tbody tr th {\n",
       "        vertical-align: top;\n",
       "    }\n",
       "\n",
       "    .dataframe thead th {\n",
       "        text-align: right;\n",
       "    }\n",
       "</style>\n",
       "<table border=\"1\" class=\"dataframe\">\n",
       "  <thead>\n",
       "    <tr style=\"text-align: right;\">\n",
       "      <th></th>\n",
       "      <th>sentence</th>\n",
       "      <th>country</th>\n",
       "      <th>type</th>\n",
       "      <th>annotator1</th>\n",
       "      <th>annotator2</th>\n",
       "      <th>gold</th>\n",
       "      <th>reconciliation_hard</th>\n",
       "      <th>id_meta</th>\n",
       "      <th>term</th>\n",
       "      <th>doc_id</th>\n",
       "      <th>sentence_id</th>\n",
       "      <th>date</th>\n",
       "      <th>fullname</th>\n",
       "      <th>party</th>\n",
       "      <th>gender</th>\n",
       "      <th>yob</th>\n",
       "      <th>edu_y</th>\n",
       "      <th>ideology</th>\n",
       "      <th>no_seats</th>\n",
       "      <th>ruling</th>\n",
       "    </tr>\n",
       "    <tr>\n",
       "      <th>id</th>\n",
       "      <th></th>\n",
       "      <th></th>\n",
       "      <th></th>\n",
       "      <th></th>\n",
       "      <th></th>\n",
       "      <th></th>\n",
       "      <th></th>\n",
       "      <th></th>\n",
       "      <th></th>\n",
       "      <th></th>\n",
       "      <th></th>\n",
       "      <th></th>\n",
       "      <th></th>\n",
       "      <th></th>\n",
       "      <th></th>\n",
       "      <th></th>\n",
       "      <th></th>\n",
       "      <th></th>\n",
       "      <th></th>\n",
       "      <th></th>\n",
       "    </tr>\n",
       "  </thead>\n",
       "  <tbody>\n",
       "    <tr>\n",
       "      <th>1</th>\n",
       "      <td>Ja shvatam da međunarodna zajednica i oni koji...</td>\n",
       "      <td>BiH</td>\n",
       "      <td>pilot</td>\n",
       "      <td>Negative</td>\n",
       "      <td>M_Negative</td>\n",
       "      <td>soft_disagreement</td>\n",
       "      <td>0</td>\n",
       "      <td>15262</td>\n",
       "      <td>0</td>\n",
       "      <td>3055</td>\n",
       "      <td>4</td>\n",
       "      <td>19991110</td>\n",
       "      <td>Špirić, Nikola</td>\n",
       "      <td>SDS</td>\n",
       "      <td>0.0</td>\n",
       "      <td>1956.0</td>\n",
       "      <td>22</td>\n",
       "      <td>NaN</td>\n",
       "      <td>4.0</td>\n",
       "      <td>1.0</td>\n",
       "    </tr>\n",
       "    <tr>\n",
       "      <th>2</th>\n",
       "      <td>Npr. mene i moje braće, npr. mi tražimo našu i...</td>\n",
       "      <td>BiH</td>\n",
       "      <td>pilot</td>\n",
       "      <td>Negative</td>\n",
       "      <td>Negative</td>\n",
       "      <td>Negative</td>\n",
       "      <td>0</td>\n",
       "      <td>72709</td>\n",
       "      <td>0</td>\n",
       "      <td>13704</td>\n",
       "      <td>8</td>\n",
       "      <td>20020417</td>\n",
       "      <td>Kulenović, Salih</td>\n",
       "      <td>SDA</td>\n",
       "      <td>0.0</td>\n",
       "      <td>1944.0</td>\n",
       "      <td>16</td>\n",
       "      <td>NaN</td>\n",
       "      <td>8.0</td>\n",
       "      <td>0.0</td>\n",
       "    </tr>\n",
       "  </tbody>\n",
       "</table>\n",
       "</div>"
      ],
      "text/plain": [
       "                                             sentence country   type  \\\n",
       "id                                                                     \n",
       "1   Ja shvatam da međunarodna zajednica i oni koji...     BiH  pilot   \n",
       "2   Npr. mene i moje braće, npr. mi tražimo našu i...     BiH  pilot   \n",
       "\n",
       "   annotator1  annotator2               gold reconciliation_hard  id_meta  \\\n",
       "id                                                                          \n",
       "1    Negative  M_Negative  soft_disagreement                   0    15262   \n",
       "2    Negative    Negative           Negative                   0    72709   \n",
       "\n",
       "    term  doc_id  sentence_id      date          fullname party  gender  \\\n",
       "id                                                                        \n",
       "1      0    3055            4  19991110    Špirić, Nikola   SDS     0.0   \n",
       "2      0   13704            8  20020417  Kulenović, Salih   SDA     0.0   \n",
       "\n",
       "       yob edu_y  ideology  no_seats  ruling  \n",
       "id                                            \n",
       "1   1956.0    22       NaN       4.0     1.0  \n",
       "2   1944.0    16       NaN       8.0     0.0  "
      ]
     },
     "execution_count": 1,
     "metadata": {},
     "output_type": "execute_result"
    }
   ],
   "source": [
    "import pandas as pd\n",
    "\n",
    "df = pd.read_excel(\"bcs_polsent_20220502.xlsx\", \"1-1300\", index_col=\"id\")\n",
    "df.head(2)"
   ]
  },
  {
   "cell_type": "markdown",
   "metadata": {},
   "source": [
    "Prepare a column `label` that we will use:"
   ]
  },
  {
   "cell_type": "code",
   "execution_count": 2,
   "metadata": {},
   "outputs": [],
   "source": [
    "df[\"label\"] = df.gold"
   ]
  },
  {
   "cell_type": "markdown",
   "metadata": {},
   "source": [
    "Overwrite `label` with `reconciliation_hard`, where the latter is non-trivial (i.e. non-zero):"
   ]
  },
  {
   "cell_type": "code",
   "execution_count": 3,
   "metadata": {},
   "outputs": [
    {
     "data": {
      "text/plain": [
       "Negative             539\n",
       "P_Neutral            218\n",
       "Positive             184\n",
       "soft_disagreement    175\n",
       "N_Neutral             80\n",
       "M_Negative            60\n",
       "M_Positive            44\n",
       "Name: label, dtype: int64"
      ]
     },
     "execution_count": 3,
     "metadata": {},
     "output_type": "execute_result"
    }
   ],
   "source": [
    "condition_reconciliation_not_zero = df.reconciliation_hard != 0\n",
    "df.loc[condition_reconciliation_not_zero, \"label\"] = df.reconciliation_hard[condition_reconciliation_not_zero]\n",
    "\n",
    "df.label.value_counts()"
   ]
  },
  {
   "cell_type": "markdown",
   "metadata": {},
   "source": [
    "Note the presence of 175 instances of soft disagreement. Let us check this out:"
   ]
  },
  {
   "cell_type": "code",
   "execution_count": 7,
   "metadata": {},
   "outputs": [
    {
     "data": {
      "text/html": [
       "<div>\n",
       "<style scoped>\n",
       "    .dataframe tbody tr th:only-of-type {\n",
       "        vertical-align: middle;\n",
       "    }\n",
       "\n",
       "    .dataframe tbody tr th {\n",
       "        vertical-align: top;\n",
       "    }\n",
       "\n",
       "    .dataframe thead th {\n",
       "        text-align: right;\n",
       "    }\n",
       "</style>\n",
       "<table border=\"1\" class=\"dataframe\">\n",
       "  <thead>\n",
       "    <tr style=\"text-align: right;\">\n",
       "      <th></th>\n",
       "      <th>sentence</th>\n",
       "      <th>country</th>\n",
       "      <th>type</th>\n",
       "      <th>annotator1</th>\n",
       "      <th>annotator2</th>\n",
       "      <th>gold</th>\n",
       "      <th>reconciliation_hard</th>\n",
       "      <th>id_meta</th>\n",
       "      <th>term</th>\n",
       "      <th>doc_id</th>\n",
       "      <th>...</th>\n",
       "      <th>date</th>\n",
       "      <th>fullname</th>\n",
       "      <th>party</th>\n",
       "      <th>gender</th>\n",
       "      <th>yob</th>\n",
       "      <th>edu_y</th>\n",
       "      <th>ideology</th>\n",
       "      <th>no_seats</th>\n",
       "      <th>ruling</th>\n",
       "      <th>label</th>\n",
       "    </tr>\n",
       "    <tr>\n",
       "      <th>id</th>\n",
       "      <th></th>\n",
       "      <th></th>\n",
       "      <th></th>\n",
       "      <th></th>\n",
       "      <th></th>\n",
       "      <th></th>\n",
       "      <th></th>\n",
       "      <th></th>\n",
       "      <th></th>\n",
       "      <th></th>\n",
       "      <th></th>\n",
       "      <th></th>\n",
       "      <th></th>\n",
       "      <th></th>\n",
       "      <th></th>\n",
       "      <th></th>\n",
       "      <th></th>\n",
       "      <th></th>\n",
       "      <th></th>\n",
       "      <th></th>\n",
       "      <th></th>\n",
       "    </tr>\n",
       "  </thead>\n",
       "  <tbody>\n",
       "    <tr>\n",
       "      <th>1</th>\n",
       "      <td>Ja shvatam da međunarodna zajednica i oni koji...</td>\n",
       "      <td>BiH</td>\n",
       "      <td>pilot</td>\n",
       "      <td>Negative</td>\n",
       "      <td>M_Negative</td>\n",
       "      <td>soft_disagreement</td>\n",
       "      <td>0</td>\n",
       "      <td>15262</td>\n",
       "      <td>0</td>\n",
       "      <td>3055</td>\n",
       "      <td>...</td>\n",
       "      <td>19991110</td>\n",
       "      <td>Špirić, Nikola</td>\n",
       "      <td>SDS</td>\n",
       "      <td>0.0</td>\n",
       "      <td>1956.0</td>\n",
       "      <td>22</td>\n",
       "      <td>NaN</td>\n",
       "      <td>4.0</td>\n",
       "      <td>1.0</td>\n",
       "      <td>soft_disagreement</td>\n",
       "    </tr>\n",
       "    <tr>\n",
       "      <th>14</th>\n",
       "      <td>Ponekad u potrebi da se rješava mnogo stvari p...</td>\n",
       "      <td>BiH</td>\n",
       "      <td>pilot</td>\n",
       "      <td>Negative</td>\n",
       "      <td>M_Negative</td>\n",
       "      <td>soft_disagreement</td>\n",
       "      <td>0</td>\n",
       "      <td>534181</td>\n",
       "      <td>0</td>\n",
       "      <td>114977</td>\n",
       "      <td>...</td>\n",
       "      <td>20160627</td>\n",
       "      <td>Škaljić, Fehim</td>\n",
       "      <td>SBB</td>\n",
       "      <td>0.0</td>\n",
       "      <td>1949.0</td>\n",
       "      <td>12</td>\n",
       "      <td>NaN</td>\n",
       "      <td>4.0</td>\n",
       "      <td>1.0</td>\n",
       "      <td>soft_disagreement</td>\n",
       "    </tr>\n",
       "    <tr>\n",
       "      <th>16</th>\n",
       "      <td>Da li Vijeće ministara raspolaže sa analizom k...</td>\n",
       "      <td>BiH</td>\n",
       "      <td>pilot</td>\n",
       "      <td>N_Neutral</td>\n",
       "      <td>P_Neutral</td>\n",
       "      <td>soft_disagreement</td>\n",
       "      <td>0</td>\n",
       "      <td>555612</td>\n",
       "      <td>0</td>\n",
       "      <td>120407</td>\n",
       "      <td>...</td>\n",
       "      <td>20170726</td>\n",
       "      <td>Mehmedović, Šemsudin</td>\n",
       "      <td>SDA</td>\n",
       "      <td>0.0</td>\n",
       "      <td>1961.0</td>\n",
       "      <td>18</td>\n",
       "      <td>NaN</td>\n",
       "      <td>10.0</td>\n",
       "      <td>1.0</td>\n",
       "      <td>soft_disagreement</td>\n",
       "    </tr>\n",
       "  </tbody>\n",
       "</table>\n",
       "<p>3 rows × 21 columns</p>\n",
       "</div>"
      ],
      "text/plain": [
       "                                             sentence country   type  \\\n",
       "id                                                                     \n",
       "1   Ja shvatam da međunarodna zajednica i oni koji...     BiH  pilot   \n",
       "14  Ponekad u potrebi da se rješava mnogo stvari p...     BiH  pilot   \n",
       "16  Da li Vijeće ministara raspolaže sa analizom k...     BiH  pilot   \n",
       "\n",
       "   annotator1  annotator2               gold reconciliation_hard  id_meta  \\\n",
       "id                                                                          \n",
       "1    Negative  M_Negative  soft_disagreement                   0    15262   \n",
       "14   Negative  M_Negative  soft_disagreement                   0   534181   \n",
       "16  N_Neutral   P_Neutral  soft_disagreement                   0   555612   \n",
       "\n",
       "    term  doc_id  ...      date              fullname party gender     yob  \\\n",
       "id                ...                                                        \n",
       "1      0    3055  ...  19991110        Špirić, Nikola   SDS    0.0  1956.0   \n",
       "14     0  114977  ...  20160627        Škaljić, Fehim   SBB    0.0  1949.0   \n",
       "16     0  120407  ...  20170726  Mehmedović, Šemsudin   SDA    0.0  1961.0   \n",
       "\n",
       "    edu_y ideology  no_seats  ruling              label  \n",
       "id                                                       \n",
       "1      22      NaN       4.0     1.0  soft_disagreement  \n",
       "14     12      NaN       4.0     1.0  soft_disagreement  \n",
       "16     18      NaN      10.0     1.0  soft_disagreement  \n",
       "\n",
       "[3 rows x 21 columns]"
      ]
     },
     "execution_count": 7,
     "metadata": {},
     "output_type": "execute_result"
    }
   ],
   "source": [
    "df[df.label==\"soft_disagreement\"].head(3)"
   ]
  },
  {
   "cell_type": "markdown",
   "metadata": {},
   "source": [
    "We might resolve this with downcasting labels to but three. Let us do this now."
   ]
  },
  {
   "cell_type": "code",
   "execution_count": 6,
   "metadata": {},
   "outputs": [
    {
     "data": {
      "text/plain": [
       "array(['soft_disagreement', 'Negative', 'Positive', 'M_Negative',\n",
       "       'N_Neutral', 'P_Neutral', 'M_Positive'], dtype=object)"
      ]
     },
     "execution_count": 6,
     "metadata": {},
     "output_type": "execute_result"
    }
   ],
   "source": [
    "labels = df.label.unique()\n",
    "labels"
   ]
  },
  {
   "cell_type": "code",
   "execution_count": 8,
   "metadata": {},
   "outputs": [],
   "source": [
    "def correct_label(l: str) -> str:\n",
    "    downcast_dict = {\n",
    "        'Negative': \"Negative\",\n",
    "        'Positive': \"Positive\",\n",
    "        'M_Negative': \"Negative\",\n",
    "        'N_Neutral': \"Neutral\", \n",
    "        'P_Neutral': \"Neutral\", \n",
    "        'M_Positive': \"Positive\",\n",
    "                   }\n",
    "    return downcast_dict.get(l, l)\n",
    "\n",
    "df[\"annotator1_downcast\"] = df.annotator1.apply(correct_label)\n",
    "df[\"annotator2_downcast\"] = df.annotator2.apply(correct_label)\n",
    "\n",
    "df[\"label\"] = df.label.apply(correct_label)\n",
    "\n"
   ]
  },
  {
   "cell_type": "code",
   "execution_count": 9,
   "metadata": {},
   "outputs": [
    {
     "data": {
      "text/plain": [
       "0"
      ]
     },
     "execution_count": 9,
     "metadata": {},
     "output_type": "execute_result"
    }
   ],
   "source": [
    "condition_label_is_soft_disagreement = df.label == \"soft_disagreement\"\n",
    "condition_downcast_annotations_differ = df.annotator1_downcast != df.annotator2_downcast\n",
    "\n",
    "sum(condition_downcast_annotations_differ & condition_label_is_soft_disagreement)"
   ]
  },
  {
   "cell_type": "markdown",
   "metadata": {},
   "source": [
    "As suspected, if we downcast the labels from annotators, the disagreement is resolved. We can now overwrite the labels `soft_disagreement`:"
   ]
  },
  {
   "cell_type": "code",
   "execution_count": 10,
   "metadata": {},
   "outputs": [
    {
     "data": {
      "text/plain": [
       "Negative    666\n",
       "Neutral     362\n",
       "Positive    272\n",
       "Name: label, dtype: int64"
      ]
     },
     "execution_count": 10,
     "metadata": {},
     "output_type": "execute_result"
    }
   ],
   "source": [
    "df.loc[condition_label_is_soft_disagreement, \"label\"] = df.loc[condition_label_is_soft_disagreement, \"annotator1_downcast\"]\n",
    "\n",
    "df.label.value_counts()"
   ]
  },
  {
   "cell_type": "markdown",
   "metadata": {},
   "source": []
  },
  {
   "cell_type": "code",
   "execution_count": null,
   "metadata": {},
   "outputs": [],
   "source": [
    "T"
   ]
  }
 ],
 "metadata": {
  "interpreter": {
   "hash": "7f6f5766036ee03d059e365a942add07f79c17033585e9357ee8157d52fe6bb9"
  },
  "kernelspec": {
   "display_name": "Python 3.8.3 ('base')",
   "language": "python",
   "name": "python3"
  },
  "language_info": {
   "codemirror_mode": {
    "name": "ipython",
    "version": 3
   },
   "file_extension": ".py",
   "mimetype": "text/x-python",
   "name": "python",
   "nbconvert_exporter": "python",
   "pygments_lexer": "ipython3",
   "version": "3.8.3"
  },
  "orig_nbformat": 4
 },
 "nbformat": 4,
 "nbformat_minor": 2
}
