{
 "cells": [
  {
   "cell_type": "code",
   "execution_count": 5,
   "metadata": {},
   "outputs": [
    {
     "data": {
      "text/html": [
       "<div>\n",
       "<style scoped>\n",
       "    .dataframe tbody tr th:only-of-type {\n",
       "        vertical-align: middle;\n",
       "    }\n",
       "\n",
       "    .dataframe tbody tr th {\n",
       "        vertical-align: top;\n",
       "    }\n",
       "\n",
       "    .dataframe thead th {\n",
       "        text-align: right;\n",
       "    }\n",
       "</style>\n",
       "<table border=\"1\" class=\"dataframe\">\n",
       "  <thead>\n",
       "    <tr style=\"text-align: right;\">\n",
       "      <th></th>\n",
       "      <th>macroF1</th>\n",
       "      <th>y_true</th>\n",
       "      <th>y_pred</th>\n",
       "      <th>train_split</th>\n",
       "      <th>eval_split</th>\n",
       "      <th>model_name</th>\n",
       "    </tr>\n",
       "  </thead>\n",
       "  <tbody>\n",
       "    <tr>\n",
       "      <th>278</th>\n",
       "      <td>0.624183</td>\n",
       "      <td>[Negative, Neutral, Negative, Neutral, Negativ...</td>\n",
       "      <td>[Neutral, Neutral, Neutral, Positive, Neutral,...</td>\n",
       "      <td>train</td>\n",
       "      <td>test_BiH</td>\n",
       "      <td>classla/bcms-bertic</td>\n",
       "    </tr>\n",
       "    <tr>\n",
       "      <th>280</th>\n",
       "      <td>0.785185</td>\n",
       "      <td>[Negative, Neutral, Negative, Neutral, Negativ...</td>\n",
       "      <td>[Negative, Neutral, Neutral, Positive, Negativ...</td>\n",
       "      <td>train</td>\n",
       "      <td>test_BiH</td>\n",
       "      <td>classla/bcms-bertic</td>\n",
       "    </tr>\n",
       "  </tbody>\n",
       "</table>\n",
       "</div>"
      ],
      "text/plain": [
       "      macroF1                                             y_true  \\\n",
       "278  0.624183  [Negative, Neutral, Negative, Neutral, Negativ...   \n",
       "280  0.785185  [Negative, Neutral, Negative, Neutral, Negativ...   \n",
       "\n",
       "                                                y_pred train_split eval_split  \\\n",
       "278  [Neutral, Neutral, Neutral, Positive, Neutral,...       train   test_BiH   \n",
       "280  [Negative, Neutral, Neutral, Positive, Negativ...       train   test_BiH   \n",
       "\n",
       "              model_name  \n",
       "278  classla/bcms-bertic  \n",
       "280  classla/bcms-bertic  "
      ]
     },
     "execution_count": 5,
     "metadata": {},
     "output_type": "execute_result"
    }
   ],
   "source": [
    "import pandas as pd\n",
    "import numpy as np\n",
    "from ast import literal_eval\n",
    "with open(\"007_results.jsonl\", \"r\") as f:\n",
    "    contents = f.readlines()\n",
    "    contents = [literal_eval(i) for i in contents]\n",
    "\n",
    "df = pd.DataFrame(data=contents)\n",
    "df = df[df.eval_split.str.contains(\"test\")]\n",
    "df = df[df.macroF1 > 0.5]\n",
    "df.tail(2)"
   ]
  },
  {
   "cell_type": "markdown",
   "metadata": {},
   "source": []
  },
  {
   "cell_type": "code",
   "execution_count": 6,
   "metadata": {},
   "outputs": [
    {
     "data": {
      "text/html": [
       "<div>\n",
       "<style scoped>\n",
       "    .dataframe tbody tr th:only-of-type {\n",
       "        vertical-align: middle;\n",
       "    }\n",
       "\n",
       "    .dataframe tbody tr th {\n",
       "        vertical-align: top;\n",
       "    }\n",
       "\n",
       "    .dataframe thead th {\n",
       "        text-align: right;\n",
       "    }\n",
       "</style>\n",
       "<table border=\"1\" class=\"dataframe\">\n",
       "  <thead>\n",
       "    <tr style=\"text-align: right;\">\n",
       "      <th></th>\n",
       "      <th></th>\n",
       "      <th></th>\n",
       "      <th>macroF1</th>\n",
       "    </tr>\n",
       "    <tr>\n",
       "      <th>model_name</th>\n",
       "      <th>train_split</th>\n",
       "      <th>eval_split</th>\n",
       "      <th></th>\n",
       "    </tr>\n",
       "  </thead>\n",
       "  <tbody>\n",
       "    <tr>\n",
       "      <th rowspan=\"7\" valign=\"top\">EMBEDDIA/crosloengual-bert</th>\n",
       "      <th rowspan=\"3\" valign=\"top\">train</th>\n",
       "      <th>test</th>\n",
       "      <td>0.7709 ± 0.0113</td>\n",
       "    </tr>\n",
       "    <tr>\n",
       "      <th>test_HR</th>\n",
       "      <td>0.7987 ± 0.0138</td>\n",
       "    </tr>\n",
       "    <tr>\n",
       "      <th>test_SRB</th>\n",
       "      <td>0.7280 ± 0.0219</td>\n",
       "    </tr>\n",
       "    <tr>\n",
       "      <th rowspan=\"2\" valign=\"top\">train_HR</th>\n",
       "      <th>test_HR</th>\n",
       "      <td>0.7748 ± 0.0174</td>\n",
       "    </tr>\n",
       "    <tr>\n",
       "      <th>test_SRB</th>\n",
       "      <td>0.7146 ± 0.0175</td>\n",
       "    </tr>\n",
       "    <tr>\n",
       "      <th rowspan=\"2\" valign=\"top\">train_SRB</th>\n",
       "      <th>test_HR</th>\n",
       "      <td>0.7762 ± 0.0114</td>\n",
       "    </tr>\n",
       "    <tr>\n",
       "      <th>test_SRB</th>\n",
       "      <td>0.6989 ± 0.0275</td>\n",
       "    </tr>\n",
       "    <tr>\n",
       "      <th rowspan=\"8\" valign=\"top\">classla/bcms-bertic</th>\n",
       "      <th rowspan=\"4\" valign=\"top\">train</th>\n",
       "      <th>test</th>\n",
       "      <td>0.7941 ± 0.0101</td>\n",
       "    </tr>\n",
       "    <tr>\n",
       "      <th>test_BiH</th>\n",
       "      <td>0.7578 ± 0.0679</td>\n",
       "    </tr>\n",
       "    <tr>\n",
       "      <th>test_HR</th>\n",
       "      <td>0.8260 ± 0.0186</td>\n",
       "    </tr>\n",
       "    <tr>\n",
       "      <th>test_SRB</th>\n",
       "      <td>0.7385 ± 0.0170</td>\n",
       "    </tr>\n",
       "    <tr>\n",
       "      <th rowspan=\"2\" valign=\"top\">train_HR</th>\n",
       "      <th>test_HR</th>\n",
       "      <td>0.8147 ± 0.0083</td>\n",
       "    </tr>\n",
       "    <tr>\n",
       "      <th>test_SRB</th>\n",
       "      <td>0.7249 ± 0.0105</td>\n",
       "    </tr>\n",
       "    <tr>\n",
       "      <th rowspan=\"2\" valign=\"top\">train_SRB</th>\n",
       "      <th>test_HR</th>\n",
       "      <td>0.7953 ± 0.0207</td>\n",
       "    </tr>\n",
       "    <tr>\n",
       "      <th>test_SRB</th>\n",
       "      <td>0.7130 ± 0.0278</td>\n",
       "    </tr>\n",
       "    <tr>\n",
       "      <th rowspan=\"7\" valign=\"top\">xlm-roberta-base</th>\n",
       "      <th rowspan=\"3\" valign=\"top\">train</th>\n",
       "      <th>test</th>\n",
       "      <td>0.7184 ± 0.0139</td>\n",
       "    </tr>\n",
       "    <tr>\n",
       "      <th>test_HR</th>\n",
       "      <td>0.7700 ± 0.0090</td>\n",
       "    </tr>\n",
       "    <tr>\n",
       "      <th>test_SRB</th>\n",
       "      <td>0.6428 ± 0.0279</td>\n",
       "    </tr>\n",
       "    <tr>\n",
       "      <th rowspan=\"2\" valign=\"top\">train_HR</th>\n",
       "      <th>test_HR</th>\n",
       "      <td>0.7296 ± 0.0251</td>\n",
       "    </tr>\n",
       "    <tr>\n",
       "      <th>test_SRB</th>\n",
       "      <td>0.6128 ± 0.0341</td>\n",
       "    </tr>\n",
       "    <tr>\n",
       "      <th rowspan=\"2\" valign=\"top\">train_SRB</th>\n",
       "      <th>test_HR</th>\n",
       "      <td>0.7323 ± 0.0282</td>\n",
       "    </tr>\n",
       "    <tr>\n",
       "      <th>test_SRB</th>\n",
       "      <td>0.6487 ± 0.0203</td>\n",
       "    </tr>\n",
       "  </tbody>\n",
       "</table>\n",
       "</div>"
      ],
      "text/plain": [
       "                                                           macroF1\n",
       "model_name                 train_split eval_split                 \n",
       "EMBEDDIA/crosloengual-bert train       test        0.7709 ± 0.0113\n",
       "                                       test_HR     0.7987 ± 0.0138\n",
       "                                       test_SRB    0.7280 ± 0.0219\n",
       "                           train_HR    test_HR     0.7748 ± 0.0174\n",
       "                                       test_SRB    0.7146 ± 0.0175\n",
       "                           train_SRB   test_HR     0.7762 ± 0.0114\n",
       "                                       test_SRB    0.6989 ± 0.0275\n",
       "classla/bcms-bertic        train       test        0.7941 ± 0.0101\n",
       "                                       test_BiH    0.7578 ± 0.0679\n",
       "                                       test_HR     0.8260 ± 0.0186\n",
       "                                       test_SRB    0.7385 ± 0.0170\n",
       "                           train_HR    test_HR     0.8147 ± 0.0083\n",
       "                                       test_SRB    0.7249 ± 0.0105\n",
       "                           train_SRB   test_HR     0.7953 ± 0.0207\n",
       "                                       test_SRB    0.7130 ± 0.0278\n",
       "xlm-roberta-base           train       test        0.7184 ± 0.0139\n",
       "                                       test_HR     0.7700 ± 0.0090\n",
       "                                       test_SRB    0.6428 ± 0.0279\n",
       "                           train_HR    test_HR     0.7296 ± 0.0251\n",
       "                                       test_SRB    0.6128 ± 0.0341\n",
       "                           train_SRB   test_HR     0.7323 ± 0.0282\n",
       "                                       test_SRB    0.6487 ± 0.0203"
      ]
     },
     "execution_count": 6,
     "metadata": {},
     "output_type": "execute_result"
    }
   ],
   "source": [
    "from typing import Iterable\n",
    "def macroF1_stats(i: Iterable[float]) -> str:\n",
    "    return f\"{np.mean(i):0.4f} ± {np.std(i):0.4f}\"\n",
    "\n",
    "df.groupby([\"model_name\", \"train_split\", \"eval_split\"]).agg(\n",
    "    {\n",
    "        \"macroF1\": lambda i: [round(i, 2) for i in i],\n",
    "        \"macroF1\": macroF1_stats\n",
    "    }\n",
    "\n",
    ")"
   ]
  },
  {
   "cell_type": "code",
   "execution_count": 7,
   "metadata": {},
   "outputs": [
    {
     "name": "stdout",
     "output_type": "stream",
     "text": [
      "\\begin{tabular}{ll}\n",
      "\\toprule\n",
      "{} &          macroF1 \\\\\n",
      "{} &    macroF1\\_stats \\\\\n",
      "model\\_name                 &                  \\\\\n",
      "\\midrule\n",
      "classla/bcms-bertic        &  0.7941 ± 0.0101 \\\\\n",
      "EMBEDDIA/crosloengual-bert &  0.7709 ± 0.0113 \\\\\n",
      "xlm-roberta-base           &  0.7184 ± 0.0139 \\\\\n",
      "\\bottomrule\n",
      "\\end{tabular}\n",
      "\n"
     ]
    },
    {
     "name": "stderr",
     "output_type": "stream",
     "text": [
      "/home/rupnik/anaconda3/lib/python3.9/site-packages/pandas/core/groupby/generic.py:303: FutureWarning: Dropping invalid columns in SeriesGroupBy.agg is deprecated. In a future version, a TypeError will be raised. Before calling .agg, select only columns which should be valid for the aggregating function.\n",
      "  results[key] = self.aggregate(func)\n"
     ]
    },
    {
     "data": {
      "text/html": [
       "<div>\n",
       "<style scoped>\n",
       "    .dataframe tbody tr th:only-of-type {\n",
       "        vertical-align: middle;\n",
       "    }\n",
       "\n",
       "    .dataframe tbody tr th {\n",
       "        vertical-align: top;\n",
       "    }\n",
       "\n",
       "    .dataframe thead tr th {\n",
       "        text-align: left;\n",
       "    }\n",
       "\n",
       "    .dataframe thead tr:last-of-type th {\n",
       "        text-align: right;\n",
       "    }\n",
       "</style>\n",
       "<table border=\"1\" class=\"dataframe\">\n",
       "  <thead>\n",
       "    <tr>\n",
       "      <th></th>\n",
       "      <th>macroF1</th>\n",
       "    </tr>\n",
       "    <tr>\n",
       "      <th></th>\n",
       "      <th>macroF1_stats</th>\n",
       "    </tr>\n",
       "    <tr>\n",
       "      <th>model_name</th>\n",
       "      <th></th>\n",
       "    </tr>\n",
       "  </thead>\n",
       "  <tbody>\n",
       "    <tr>\n",
       "      <th>classla/bcms-bertic</th>\n",
       "      <td>0.7941 ± 0.0101</td>\n",
       "    </tr>\n",
       "    <tr>\n",
       "      <th>EMBEDDIA/crosloengual-bert</th>\n",
       "      <td>0.7709 ± 0.0113</td>\n",
       "    </tr>\n",
       "    <tr>\n",
       "      <th>xlm-roberta-base</th>\n",
       "      <td>0.7184 ± 0.0139</td>\n",
       "    </tr>\n",
       "  </tbody>\n",
       "</table>\n",
       "</div>"
      ],
      "text/plain": [
       "                                    macroF1\n",
       "                              macroF1_stats\n",
       "model_name                                 \n",
       "classla/bcms-bertic         0.7941 ± 0.0101\n",
       "EMBEDDIA/crosloengual-bert  0.7709 ± 0.0113\n",
       "xlm-roberta-base            0.7184 ± 0.0139"
      ]
     },
     "execution_count": 7,
     "metadata": {},
     "output_type": "execute_result"
    }
   ],
   "source": [
    "import numpy as np\n",
    "\n",
    "C_trained_on_train = df.train_split == \"train\"\n",
    "C_evaled_on_test = df.eval_split == \"test\"\n",
    "from typing import Iterable\n",
    "\n",
    "\n",
    "def macroF1_stats(i: Iterable[float]) -> str:\n",
    "    return f\"{np.mean(i):0.4f} ± {np.std(i):0.4f}\"\n",
    "\n",
    "\n",
    "gb = df[C_trained_on_train & C_evaled_on_test].groupby(\n",
    "    \"model_name\".split()\n",
    ").agg(\n",
    "    [macroF1_stats,\n",
    "     #len\n",
    "     ]\n",
    ").rename(columns={\"len\": \"sample size\"}).sort_values(\n",
    "    by=(\"macroF1\", \"macroF1_stats\"), ascending=False\n",
    ")\n",
    "print(gb.to_latex())\n",
    "gb"
   ]
  },
  {
   "cell_type": "markdown",
   "metadata": {},
   "source": [
    "## Is bertic better than cse bert?"
   ]
  },
  {
   "cell_type": "code",
   "execution_count": 8,
   "metadata": {},
   "outputs": [
    {
     "data": {
      "text/plain": [
       "0.0034965034965034965"
      ]
     },
     "execution_count": 8,
     "metadata": {},
     "output_type": "execute_result"
    }
   ],
   "source": [
    "from scipy.stats import mannwhitneyu\n",
    "\n",
    "C_model_bertic = df.model_name == \"classla/bcms-bertic\"\n",
    "C_model_csebert = df.model_name == \"EMBEDDIA/crosloengual-bert\"\n",
    "\n",
    "bertic = df[C_trained_on_train & C_evaled_on_test & C_model_bertic].macroF1     \n",
    "csebert = df[C_trained_on_train & C_evaled_on_test & C_model_csebert].macroF1   \n",
    "\n",
    "\n",
    "mannwhitneyu(bertic, csebert, alternative=\"greater\").pvalue\n"
   ]
  },
  {
   "cell_type": "code",
   "execution_count": 9,
   "metadata": {},
   "outputs": [],
   "source": [
    "from pint import UnitRegistry\n",
    "u = UnitRegistry()"
   ]
  },
  {
   "cell_type": "code",
   "execution_count": null,
   "metadata": {},
   "outputs": [],
   "source": []
  },
  {
   "cell_type": "code",
   "execution_count": 10,
   "metadata": {},
   "outputs": [
    {
     "data": {
      "text/plain": [
       "<Figure size 288x288 with 0 Axes>"
      ]
     },
     "metadata": {},
     "output_type": "display_data"
    },
    {
     "data": {
      "image/png": "[encoded data removed]",
      "text/plain": [
       "<Figure size 252x189 with 2 Axes>"
      ]
     },
     "metadata": {
      "needs_background": "light"
     },
     "output_type": "display_data"
    },
    {
     "data": {
      "text/plain": [
       "<Figure size 288x288 with 0 Axes>"
      ]
     },
     "metadata": {},
     "output_type": "display_data"
    },
    {
     "data": {
      "image/png": "[encoded data removed]",
      "text/plain": [
       "<Figure size 252x189 with 2 Axes>"
      ]
     },
     "metadata": {
      "needs_background": "light"
     },
     "output_type": "display_data"
    }
   ],
   "source": [
    "C_model_bertic = df.model_name == \"classla/bcms-bertic\"\n",
    "\n",
    "subset = df[C_trained_on_train & C_evaled_on_test & C_model_bertic\n",
    "]\n",
    "import numpy as np\n",
    "y_true = np.array([np.array(i) for i in subset.y_true]).reshape(-1)\n",
    "y_pred = np.array([np.array(i) for i in subset.y_pred]).reshape(-1)\n",
    "\n",
    "import matplotlib.pyplot as plt\n",
    "plt.style.use(\"science no-latex\".split())\n",
    "plt.figure(figsize=(4,4))\n",
    "from sklearn.metrics import ConfusionMatrixDisplay\n",
    "\n",
    "ConfusionMatrixDisplay.from_predictions(\n",
    "   y_true, y_pred, cmap=\"Oranges\", labels=[\"Negative\", \"Neutral\", \"Positive\"],\n",
    "   normalize=\"true\"\n",
    "   )\n",
    "\n",
    "plt.title(f\"Confusion matrix\\nclassla/bcms-bertic\")\n",
    "plt.savefig(\"images/007_bertic_cm_normalized_true.png\")\n",
    "plt.savefig(\"images/007_bertic_cm_normalized_true.pdf\")\n",
    "\n",
    "plt.show()\n",
    "\n",
    "import matplotlib.pyplot as plt\n",
    "plt.style.use(\"science no-latex\".split())\n",
    "plt.figure(figsize=(4,4))\n",
    "from sklearn.metrics import ConfusionMatrixDisplay\n",
    "\n",
    "ConfusionMatrixDisplay.from_predictions(\n",
    "   y_true, y_pred, cmap=\"Oranges\", labels=[\"Negative\", \"Neutral\", \"Positive\"],\n",
    "   # normalize=\"true\"\n",
    "   )\n",
    "\n",
    "plt.title(f\"Confusion matrix\\nclassla/bcms-bertic\")\n",
    "plt.savefig(\"images/007_bertic_cm_normalized_none.png\")\n",
    "plt.savefig(\"images/007_bertic_cm_normalized_none.pdf\")\n",
    "\n",
    "plt.show()"
   ]
  },
  {
   "cell_type": "code",
   "execution_count": 11,
   "metadata": {},
   "outputs": [
    {
     "data": {
      "text/html": [
       "<div>\n",
       "<style scoped>\n",
       "    .dataframe tbody tr th:only-of-type {\n",
       "        vertical-align: middle;\n",
       "    }\n",
       "\n",
       "    .dataframe tbody tr th {\n",
       "        vertical-align: top;\n",
       "    }\n",
       "\n",
       "    .dataframe thead th {\n",
       "        text-align: right;\n",
       "    }\n",
       "</style>\n",
       "<table border=\"1\" class=\"dataframe\">\n",
       "  <thead>\n",
       "    <tr style=\"text-align: right;\">\n",
       "      <th></th>\n",
       "      <th>macroF1</th>\n",
       "      <th>y_true</th>\n",
       "      <th>y_pred</th>\n",
       "      <th>train_split</th>\n",
       "      <th>eval_split</th>\n",
       "      <th>model_name</th>\n",
       "    </tr>\n",
       "  </thead>\n",
       "  <tbody>\n",
       "    <tr>\n",
       "      <th>6</th>\n",
       "      <td>0.800865</td>\n",
       "      <td>[Negative, Neutral, Negative, Negative, Neutra...</td>\n",
       "      <td>[Negative, Neutral, Neutral, Negative, Neutral...</td>\n",
       "      <td>train</td>\n",
       "      <td>test</td>\n",
       "      <td>classla/bcms-bertic</td>\n",
       "    </tr>\n",
       "    <tr>\n",
       "      <th>24</th>\n",
       "      <td>0.781375</td>\n",
       "      <td>[Negative, Neutral, Negative, Negative, Neutra...</td>\n",
       "      <td>[Negative, Neutral, Negative, Negative, Neutra...</td>\n",
       "      <td>train</td>\n",
       "      <td>test</td>\n",
       "      <td>classla/bcms-bertic</td>\n",
       "    </tr>\n",
       "    <tr>\n",
       "      <th>42</th>\n",
       "      <td>0.776619</td>\n",
       "      <td>[Negative, Neutral, Negative, Negative, Neutra...</td>\n",
       "      <td>[Negative, Neutral, Negative, Negative, Neutra...</td>\n",
       "      <td>train</td>\n",
       "      <td>test</td>\n",
       "      <td>classla/bcms-bertic</td>\n",
       "    </tr>\n",
       "    <tr>\n",
       "      <th>60</th>\n",
       "      <td>0.805243</td>\n",
       "      <td>[Negative, Neutral, Negative, Negative, Neutra...</td>\n",
       "      <td>[Negative, Neutral, Neutral, Negative, Neutral...</td>\n",
       "      <td>train</td>\n",
       "      <td>test</td>\n",
       "      <td>classla/bcms-bertic</td>\n",
       "    </tr>\n",
       "    <tr>\n",
       "      <th>78</th>\n",
       "      <td>0.802067</td>\n",
       "      <td>[Negative, Neutral, Negative, Negative, Neutra...</td>\n",
       "      <td>[Negative, Neutral, Neutral, Negative, Neutral...</td>\n",
       "      <td>train</td>\n",
       "      <td>test</td>\n",
       "      <td>classla/bcms-bertic</td>\n",
       "    </tr>\n",
       "    <tr>\n",
       "      <th>96</th>\n",
       "      <td>0.797154</td>\n",
       "      <td>[Negative, Neutral, Negative, Negative, Neutra...</td>\n",
       "      <td>[Negative, Neutral, Neutral, Negative, Neutral...</td>\n",
       "      <td>train</td>\n",
       "      <td>test</td>\n",
       "      <td>classla/bcms-bertic</td>\n",
       "    </tr>\n",
       "    <tr>\n",
       "      <th>114</th>\n",
       "      <td>0.795617</td>\n",
       "      <td>[Negative, Neutral, Negative, Negative, Neutra...</td>\n",
       "      <td>[Negative, Neutral, Negative, Negative, Neutra...</td>\n",
       "      <td>train</td>\n",
       "      <td>test</td>\n",
       "      <td>classla/bcms-bertic</td>\n",
       "    </tr>\n",
       "  </tbody>\n",
       "</table>\n",
       "</div>"
      ],
      "text/plain": [
       "      macroF1                                             y_true  \\\n",
       "6    0.800865  [Negative, Neutral, Negative, Negative, Neutra...   \n",
       "24   0.781375  [Negative, Neutral, Negative, Negative, Neutra...   \n",
       "42   0.776619  [Negative, Neutral, Negative, Negative, Neutra...   \n",
       "60   0.805243  [Negative, Neutral, Negative, Negative, Neutra...   \n",
       "78   0.802067  [Negative, Neutral, Negative, Negative, Neutra...   \n",
       "96   0.797154  [Negative, Neutral, Negative, Negative, Neutra...   \n",
       "114  0.795617  [Negative, Neutral, Negative, Negative, Neutra...   \n",
       "\n",
       "                                                y_pred train_split eval_split  \\\n",
       "6    [Negative, Neutral, Neutral, Negative, Neutral...       train       test   \n",
       "24   [Negative, Neutral, Negative, Negative, Neutra...       train       test   \n",
       "42   [Negative, Neutral, Negative, Negative, Neutra...       train       test   \n",
       "60   [Negative, Neutral, Neutral, Negative, Neutral...       train       test   \n",
       "78   [Negative, Neutral, Neutral, Negative, Neutral...       train       test   \n",
       "96   [Negative, Neutral, Neutral, Negative, Neutral...       train       test   \n",
       "114  [Negative, Neutral, Negative, Negative, Neutra...       train       test   \n",
       "\n",
       "              model_name  \n",
       "6    classla/bcms-bertic  \n",
       "24   classla/bcms-bertic  \n",
       "42   classla/bcms-bertic  \n",
       "60   classla/bcms-bertic  \n",
       "78   classla/bcms-bertic  \n",
       "96   classla/bcms-bertic  \n",
       "114  classla/bcms-bertic  "
      ]
     },
     "execution_count": 11,
     "metadata": {},
     "output_type": "execute_result"
    }
   ],
   "source": [
    "subset"
   ]
  },
  {
   "cell_type": "code",
   "execution_count": 12,
   "metadata": {},
   "outputs": [
    {
     "name": "stderr",
     "output_type": "stream",
     "text": [
      "/home/rupnik/anaconda3/lib/python3.9/site-packages/pandas/core/groupby/generic.py:303: FutureWarning: Dropping invalid columns in SeriesGroupBy.agg is deprecated. In a future version, a TypeError will be raised. Before calling .agg, select only columns which should be valid for the aggregating function.\n",
      "  results[key] = self.aggregate(func)\n"
     ]
    },
    {
     "data": {
      "text/html": [
       "<div>\n",
       "<style scoped>\n",
       "    .dataframe tbody tr th:only-of-type {\n",
       "        vertical-align: middle;\n",
       "    }\n",
       "\n",
       "    .dataframe tbody tr th {\n",
       "        vertical-align: top;\n",
       "    }\n",
       "\n",
       "    .dataframe thead tr th {\n",
       "        text-align: left;\n",
       "    }\n",
       "\n",
       "    .dataframe thead tr:last-of-type th {\n",
       "        text-align: right;\n",
       "    }\n",
       "</style>\n",
       "<table border=\"1\" class=\"dataframe\">\n",
       "  <thead>\n",
       "    <tr>\n",
       "      <th></th>\n",
       "      <th></th>\n",
       "      <th></th>\n",
       "      <th colspan=\"2\" halign=\"left\">macroF1</th>\n",
       "    </tr>\n",
       "    <tr>\n",
       "      <th></th>\n",
       "      <th></th>\n",
       "      <th></th>\n",
       "      <th>macroF1_stats</th>\n",
       "      <th>len</th>\n",
       "    </tr>\n",
       "    <tr>\n",
       "      <th>model_name</th>\n",
       "      <th>train_split</th>\n",
       "      <th>eval_split</th>\n",
       "      <th></th>\n",
       "      <th></th>\n",
       "    </tr>\n",
       "  </thead>\n",
       "  <tbody>\n",
       "    <tr>\n",
       "      <th rowspan=\"7\" valign=\"top\">EMBEDDIA/crosloengual-bert</th>\n",
       "      <th rowspan=\"3\" valign=\"top\">train</th>\n",
       "      <th>test</th>\n",
       "      <td>0.7709 ± 0.0113</td>\n",
       "      <td>7</td>\n",
       "    </tr>\n",
       "    <tr>\n",
       "      <th>test_HR</th>\n",
       "      <td>0.7987 ± 0.0138</td>\n",
       "      <td>7</td>\n",
       "    </tr>\n",
       "    <tr>\n",
       "      <th>test_SRB</th>\n",
       "      <td>0.7280 ± 0.0219</td>\n",
       "      <td>7</td>\n",
       "    </tr>\n",
       "    <tr>\n",
       "      <th rowspan=\"2\" valign=\"top\">train_HR</th>\n",
       "      <th>test_HR</th>\n",
       "      <td>0.7748 ± 0.0174</td>\n",
       "      <td>6</td>\n",
       "    </tr>\n",
       "    <tr>\n",
       "      <th>test_SRB</th>\n",
       "      <td>0.7146 ± 0.0175</td>\n",
       "      <td>6</td>\n",
       "    </tr>\n",
       "    <tr>\n",
       "      <th rowspan=\"2\" valign=\"top\">train_SRB</th>\n",
       "      <th>test_HR</th>\n",
       "      <td>0.7762 ± 0.0114</td>\n",
       "      <td>6</td>\n",
       "    </tr>\n",
       "    <tr>\n",
       "      <th>test_SRB</th>\n",
       "      <td>0.6989 ± 0.0275</td>\n",
       "      <td>6</td>\n",
       "    </tr>\n",
       "    <tr>\n",
       "      <th rowspan=\"8\" valign=\"top\">classla/bcms-bertic</th>\n",
       "      <th rowspan=\"4\" valign=\"top\">train</th>\n",
       "      <th>test</th>\n",
       "      <td>0.7941 ± 0.0101</td>\n",
       "      <td>7</td>\n",
       "    </tr>\n",
       "    <tr>\n",
       "      <th>test_BiH</th>\n",
       "      <td>0.7578 ± 0.0679</td>\n",
       "      <td>6</td>\n",
       "    </tr>\n",
       "    <tr>\n",
       "      <th>test_HR</th>\n",
       "      <td>0.8260 ± 0.0186</td>\n",
       "      <td>7</td>\n",
       "    </tr>\n",
       "    <tr>\n",
       "      <th>test_SRB</th>\n",
       "      <td>0.7385 ± 0.0170</td>\n",
       "      <td>7</td>\n",
       "    </tr>\n",
       "    <tr>\n",
       "      <th rowspan=\"2\" valign=\"top\">train_HR</th>\n",
       "      <th>test_HR</th>\n",
       "      <td>0.8147 ± 0.0083</td>\n",
       "      <td>6</td>\n",
       "    </tr>\n",
       "    <tr>\n",
       "      <th>test_SRB</th>\n",
       "      <td>0.7249 ± 0.0105</td>\n",
       "      <td>6</td>\n",
       "    </tr>\n",
       "    <tr>\n",
       "      <th rowspan=\"2\" valign=\"top\">train_SRB</th>\n",
       "      <th>test_HR</th>\n",
       "      <td>0.7953 ± 0.0207</td>\n",
       "      <td>6</td>\n",
       "    </tr>\n",
       "    <tr>\n",
       "      <th>test_SRB</th>\n",
       "      <td>0.7130 ± 0.0278</td>\n",
       "      <td>6</td>\n",
       "    </tr>\n",
       "    <tr>\n",
       "      <th rowspan=\"7\" valign=\"top\">xlm-roberta-base</th>\n",
       "      <th rowspan=\"3\" valign=\"top\">train</th>\n",
       "      <th>test</th>\n",
       "      <td>0.7184 ± 0.0139</td>\n",
       "      <td>6</td>\n",
       "    </tr>\n",
       "    <tr>\n",
       "      <th>test_HR</th>\n",
       "      <td>0.7700 ± 0.0090</td>\n",
       "      <td>6</td>\n",
       "    </tr>\n",
       "    <tr>\n",
       "      <th>test_SRB</th>\n",
       "      <td>0.6428 ± 0.0279</td>\n",
       "      <td>6</td>\n",
       "    </tr>\n",
       "    <tr>\n",
       "      <th rowspan=\"2\" valign=\"top\">train_HR</th>\n",
       "      <th>test_HR</th>\n",
       "      <td>0.7296 ± 0.0251</td>\n",
       "      <td>5</td>\n",
       "    </tr>\n",
       "    <tr>\n",
       "      <th>test_SRB</th>\n",
       "      <td>0.6128 ± 0.0341</td>\n",
       "      <td>5</td>\n",
       "    </tr>\n",
       "    <tr>\n",
       "      <th rowspan=\"2\" valign=\"top\">train_SRB</th>\n",
       "      <th>test_HR</th>\n",
       "      <td>0.7323 ± 0.0282</td>\n",
       "      <td>4</td>\n",
       "    </tr>\n",
       "    <tr>\n",
       "      <th>test_SRB</th>\n",
       "      <td>0.6487 ± 0.0203</td>\n",
       "      <td>4</td>\n",
       "    </tr>\n",
       "  </tbody>\n",
       "</table>\n",
       "</div>"
      ],
      "text/plain": [
       "                                                           macroF1    \n",
       "                                                     macroF1_stats len\n",
       "model_name                 train_split eval_split                     \n",
       "EMBEDDIA/crosloengual-bert train       test        0.7709 ± 0.0113   7\n",
       "                                       test_HR     0.7987 ± 0.0138   7\n",
       "                                       test_SRB    0.7280 ± 0.0219   7\n",
       "                           train_HR    test_HR     0.7748 ± 0.0174   6\n",
       "                                       test_SRB    0.7146 ± 0.0175   6\n",
       "                           train_SRB   test_HR     0.7762 ± 0.0114   6\n",
       "                                       test_SRB    0.6989 ± 0.0275   6\n",
       "classla/bcms-bertic        train       test        0.7941 ± 0.0101   7\n",
       "                                       test_BiH    0.7578 ± 0.0679   6\n",
       "                                       test_HR     0.8260 ± 0.0186   7\n",
       "                                       test_SRB    0.7385 ± 0.0170   7\n",
       "                           train_HR    test_HR     0.8147 ± 0.0083   6\n",
       "                                       test_SRB    0.7249 ± 0.0105   6\n",
       "                           train_SRB   test_HR     0.7953 ± 0.0207   6\n",
       "                                       test_SRB    0.7130 ± 0.0278   6\n",
       "xlm-roberta-base           train       test        0.7184 ± 0.0139   6\n",
       "                                       test_HR     0.7700 ± 0.0090   6\n",
       "                                       test_SRB    0.6428 ± 0.0279   6\n",
       "                           train_HR    test_HR     0.7296 ± 0.0251   5\n",
       "                                       test_SRB    0.6128 ± 0.0341   5\n",
       "                           train_SRB   test_HR     0.7323 ± 0.0282   4\n",
       "                                       test_SRB    0.6487 ± 0.0203   4"
      ]
     },
     "execution_count": 12,
     "metadata": {},
     "output_type": "execute_result"
    }
   ],
   "source": [
    "df.groupby([\"model_name\", \"train_split\", \"eval_split\"]).agg(\n",
    "    [macroF1_stats, len]\n",
    ")#.sort_values(by=(\"macroF1\",\"macroF1_stats\"), ascending=False)"
   ]
  },
  {
   "cell_type": "markdown",
   "metadata": {},
   "source": [
    "# Inspecting individual models' performance on cross-parliament data"
   ]
  },
  {
   "cell_type": "code",
   "execution_count": 13,
   "metadata": {},
   "outputs": [
    {
     "name": "stdout",
     "output_type": "stream",
     "text": [
      "Model: xlm-roberta-base\n"
     ]
    },
    {
     "name": "stderr",
     "output_type": "stream",
     "text": [
      "/tmp/ipykernel_3804643/2016291241.py:8: FutureWarning: Dropping invalid columns in DataFrameGroupBy.agg is deprecated. In a future version, a TypeError will be raised. Before calling .agg, select only columns which should be valid for the aggregating function.\n",
      "  gb = df[C_model & (~C_train_on_fulltrain) & (~ C_test_on_full_test)].groupby([\"train_split\", \"eval_split\"]).agg(\n"
     ]
    },
    {
     "data": {
      "text/html": [
       "<div>\n",
       "<style scoped>\n",
       "    .dataframe tbody tr th:only-of-type {\n",
       "        vertical-align: middle;\n",
       "    }\n",
       "\n",
       "    .dataframe tbody tr th {\n",
       "        vertical-align: top;\n",
       "    }\n",
       "\n",
       "    .dataframe thead th {\n",
       "        text-align: right;\n",
       "    }\n",
       "</style>\n",
       "<table border=\"1\" class=\"dataframe\">\n",
       "  <thead>\n",
       "    <tr style=\"text-align: right;\">\n",
       "      <th></th>\n",
       "      <th></th>\n",
       "      <th>macroF1</th>\n",
       "    </tr>\n",
       "    <tr>\n",
       "      <th>train_split</th>\n",
       "      <th>eval_split</th>\n",
       "      <th></th>\n",
       "    </tr>\n",
       "  </thead>\n",
       "  <tbody>\n",
       "    <tr>\n",
       "      <th rowspan=\"2\" valign=\"top\">train_HR</th>\n",
       "      <th>test_HR</th>\n",
       "      <td>0.7296 ± 0.0251</td>\n",
       "    </tr>\n",
       "    <tr>\n",
       "      <th>test_SRB</th>\n",
       "      <td>0.6128 ± 0.0341</td>\n",
       "    </tr>\n",
       "    <tr>\n",
       "      <th rowspan=\"2\" valign=\"top\">train_SRB</th>\n",
       "      <th>test_HR</th>\n",
       "      <td>0.7323 ± 0.0282</td>\n",
       "    </tr>\n",
       "    <tr>\n",
       "      <th>test_SRB</th>\n",
       "      <td>0.6487 ± 0.0203</td>\n",
       "    </tr>\n",
       "  </tbody>\n",
       "</table>\n",
       "</div>"
      ],
      "text/plain": [
       "                                macroF1\n",
       "train_split eval_split                 \n",
       "train_HR    test_HR     0.7296 ± 0.0251\n",
       "            test_SRB    0.6128 ± 0.0341\n",
       "train_SRB   test_HR     0.7323 ± 0.0282\n",
       "            test_SRB    0.6487 ± 0.0203"
      ]
     },
     "metadata": {},
     "output_type": "display_data"
    },
    {
     "name": "stdout",
     "output_type": "stream",
     "text": [
      "Model: classla/bcms-bertic\n"
     ]
    },
    {
     "name": "stderr",
     "output_type": "stream",
     "text": [
      "/tmp/ipykernel_3804643/2016291241.py:8: FutureWarning: Dropping invalid columns in DataFrameGroupBy.agg is deprecated. In a future version, a TypeError will be raised. Before calling .agg, select only columns which should be valid for the aggregating function.\n",
      "  gb = df[C_model & (~C_train_on_fulltrain) & (~ C_test_on_full_test)].groupby([\"train_split\", \"eval_split\"]).agg(\n"
     ]
    },
    {
     "data": {
      "text/html": [
       "<div>\n",
       "<style scoped>\n",
       "    .dataframe tbody tr th:only-of-type {\n",
       "        vertical-align: middle;\n",
       "    }\n",
       "\n",
       "    .dataframe tbody tr th {\n",
       "        vertical-align: top;\n",
       "    }\n",
       "\n",
       "    .dataframe thead th {\n",
       "        text-align: right;\n",
       "    }\n",
       "</style>\n",
       "<table border=\"1\" class=\"dataframe\">\n",
       "  <thead>\n",
       "    <tr style=\"text-align: right;\">\n",
       "      <th></th>\n",
       "      <th></th>\n",
       "      <th>macroF1</th>\n",
       "    </tr>\n",
       "    <tr>\n",
       "      <th>train_split</th>\n",
       "      <th>eval_split</th>\n",
       "      <th></th>\n",
       "    </tr>\n",
       "  </thead>\n",
       "  <tbody>\n",
       "    <tr>\n",
       "      <th rowspan=\"2\" valign=\"top\">train_HR</th>\n",
       "      <th>test_HR</th>\n",
       "      <td>0.8147 ± 0.0083</td>\n",
       "    </tr>\n",
       "    <tr>\n",
       "      <th>test_SRB</th>\n",
       "      <td>0.7249 ± 0.0105</td>\n",
       "    </tr>\n",
       "    <tr>\n",
       "      <th rowspan=\"2\" valign=\"top\">train_SRB</th>\n",
       "      <th>test_HR</th>\n",
       "      <td>0.7953 ± 0.0207</td>\n",
       "    </tr>\n",
       "    <tr>\n",
       "      <th>test_SRB</th>\n",
       "      <td>0.7130 ± 0.0278</td>\n",
       "    </tr>\n",
       "  </tbody>\n",
       "</table>\n",
       "</div>"
      ],
      "text/plain": [
       "                                macroF1\n",
       "train_split eval_split                 \n",
       "train_HR    test_HR     0.8147 ± 0.0083\n",
       "            test_SRB    0.7249 ± 0.0105\n",
       "train_SRB   test_HR     0.7953 ± 0.0207\n",
       "            test_SRB    0.7130 ± 0.0278"
      ]
     },
     "metadata": {},
     "output_type": "display_data"
    },
    {
     "name": "stdout",
     "output_type": "stream",
     "text": [
      "Model: EMBEDDIA/crosloengual-bert\n"
     ]
    },
    {
     "name": "stderr",
     "output_type": "stream",
     "text": [
      "/tmp/ipykernel_3804643/2016291241.py:8: FutureWarning: Dropping invalid columns in DataFrameGroupBy.agg is deprecated. In a future version, a TypeError will be raised. Before calling .agg, select only columns which should be valid for the aggregating function.\n",
      "  gb = df[C_model & (~C_train_on_fulltrain) & (~ C_test_on_full_test)].groupby([\"train_split\", \"eval_split\"]).agg(\n"
     ]
    },
    {
     "data": {
      "text/html": [
       "<div>\n",
       "<style scoped>\n",
       "    .dataframe tbody tr th:only-of-type {\n",
       "        vertical-align: middle;\n",
       "    }\n",
       "\n",
       "    .dataframe tbody tr th {\n",
       "        vertical-align: top;\n",
       "    }\n",
       "\n",
       "    .dataframe thead th {\n",
       "        text-align: right;\n",
       "    }\n",
       "</style>\n",
       "<table border=\"1\" class=\"dataframe\">\n",
       "  <thead>\n",
       "    <tr style=\"text-align: right;\">\n",
       "      <th></th>\n",
       "      <th></th>\n",
       "      <th>macroF1</th>\n",
       "    </tr>\n",
       "    <tr>\n",
       "      <th>train_split</th>\n",
       "      <th>eval_split</th>\n",
       "      <th></th>\n",
       "    </tr>\n",
       "  </thead>\n",
       "  <tbody>\n",
       "    <tr>\n",
       "      <th rowspan=\"2\" valign=\"top\">train_HR</th>\n",
       "      <th>test_HR</th>\n",
       "      <td>0.7748 ± 0.0174</td>\n",
       "    </tr>\n",
       "    <tr>\n",
       "      <th>test_SRB</th>\n",
       "      <td>0.7146 ± 0.0175</td>\n",
       "    </tr>\n",
       "    <tr>\n",
       "      <th rowspan=\"2\" valign=\"top\">train_SRB</th>\n",
       "      <th>test_HR</th>\n",
       "      <td>0.7762 ± 0.0114</td>\n",
       "    </tr>\n",
       "    <tr>\n",
       "      <th>test_SRB</th>\n",
       "      <td>0.6989 ± 0.0275</td>\n",
       "    </tr>\n",
       "  </tbody>\n",
       "</table>\n",
       "</div>"
      ],
      "text/plain": [
       "                                macroF1\n",
       "train_split eval_split                 \n",
       "train_HR    test_HR     0.7748 ± 0.0174\n",
       "            test_SRB    0.7146 ± 0.0175\n",
       "train_SRB   test_HR     0.7762 ± 0.0114\n",
       "            test_SRB    0.6989 ± 0.0275"
      ]
     },
     "metadata": {},
     "output_type": "display_data"
    }
   ],
   "source": [
    "from IPython.display import display\n",
    "\n",
    "for model_name in df.model_name.unique():\n",
    "    print(\"Model:\", model_name)\n",
    "    C_model = df.model_name == model_name\n",
    "    C_train_on_fulltrain = df.train_split == \"train\"\n",
    "    C_test_on_full_test = df.eval_split == \"test\"\n",
    "    gb = df[C_model & (~C_train_on_fulltrain) & (~ C_test_on_full_test)].groupby([\"train_split\", \"eval_split\"]).agg(\n",
    "    macroF1_stats)\n",
    "    display(gb)"
   ]
  },
  {
   "cell_type": "code",
   "execution_count": 14,
   "metadata": {},
   "outputs": [
    {
     "data": {
      "image/png": "[encoded data removed]",
      "text/plain": [
       "<Figure size 432x432 with 2 Axes>"
      ]
     },
     "metadata": {
      "needs_background": "light"
     },
     "output_type": "display_data"
    },
    {
     "data": {
      "image/png": "[encoded data removed]",
      "text/plain": [
       "<Figure size 432x432 with 2 Axes>"
      ]
     },
     "metadata": {
      "needs_background": "light"
     },
     "output_type": "display_data"
    },
    {
     "data": {
      "image/png": "[encoded data removed]",
      "text/plain": [
       "<Figure size 432x432 with 2 Axes>"
      ]
     },
     "metadata": {
      "needs_background": "light"
     },
     "output_type": "display_data"
    },
    {
     "data": {
      "image/png": "[encoded data removed]",
      "text/plain": [
       "<Figure size 432x432 with 2 Axes>"
      ]
     },
     "metadata": {
      "needs_background": "light"
     },
     "output_type": "display_data"
    },
    {
     "data": {
      "image/png": "[encoded data removed]",
      "text/plain": [
       "<Figure size 432x432 with 2 Axes>"
      ]
     },
     "metadata": {
      "needs_background": "light"
     },
     "output_type": "display_data"
    },
    {
     "data": {
      "image/png": "[encoded data removed]",
      "text/plain": [
       "<Figure size 432x432 with 2 Axes>"
      ]
     },
     "metadata": {
      "needs_background": "light"
     },
     "output_type": "display_data"
    },
    {
     "data": {
      "image/png": "[encoded data removed]",
      "text/plain": [
       "<Figure size 432x432 with 2 Axes>"
      ]
     },
     "metadata": {
      "needs_background": "light"
     },
     "output_type": "display_data"
    },
    {
     "data": {
      "image/png": "[encoded data removed]",
      "text/plain": [
       "<Figure size 432x432 with 2 Axes>"
      ]
     },
     "metadata": {
      "needs_background": "light"
     },
     "output_type": "display_data"
    }
   ],
   "source": [
    "import matplotlib.pyplot as plt\n",
    "plt.style.use(['science', 'no-latex'])\n",
    "from sklearn.metrics import ConfusionMatrixDisplay\n",
    "\n",
    "for model in [\"EMBEDDIA/crosloengual-bert\", \"classla/bcms-bertic\"]:\n",
    "    for train in [\"train_HR\", \"train_SRB\"]:\n",
    "        for test in [\n",
    "            # \"dev_HR\", \n",
    "            # \"dev_SRB\", \n",
    "            \"test_HR\", \n",
    "            \"test_SRB\"\n",
    "            ]:\n",
    "            C_model = df.model_name==model\n",
    "            C_train = df.train_split == train\n",
    "            C_test = df.eval_split == test\n",
    "            subset = df[C_model & C_train & C_test]\n",
    "            y_true = []\n",
    "            y_pred = []\n",
    "            for i in subset.y_true.values:\n",
    "                y_true.extend(i)\n",
    "            for i in subset.y_pred.values:\n",
    "                y_pred.extend(i)\n",
    "            fig, ax = plt.subplots(figsize=(6,6))\n",
    "            ConfusionMatrixDisplay.from_predictions(\n",
    "            y_true, y_pred, cmap=\"Oranges\", labels=[\"Negative\", \"Neutral\", \"Positive\"],\n",
    "            ax = ax,\n",
    "            normalize=\"true\"\n",
    "            )\n",
    "            plt.title(f\"{model}\\ntrain on: {train},\\ntest on: {test}\")\n",
    "            plt.savefig(f\"images/CMs/007_{model.replace('/', '_')}_{train=}_{test=}.png\")\n",
    "            plt.savefig(f\"images/CMs/007_{model.replace('/', '_')}_{train=}_{test=}.pdf\")\n",
    "            plt.show()"
   ]
  },
  {
   "cell_type": "code",
   "execution_count": null,
   "metadata": {},
   "outputs": [],
   "source": []
  }
 ],
 "metadata": {
  "interpreter": {
   "hash": "2d30c88cb7145d662123f76f8c64609bc18e52940d2861adec2407b68f2e334f"
  },
  "kernelspec": {
   "display_name": "Python 3.9.7 ('base')",
   "language": "python",
   "name": "python3"
  },
  "language_info": {
   "codemirror_mode": {
    "name": "ipython",
    "version": 3
   },
   "file_extension": ".py",
   "mimetype": "text/x-python",
   "name": "python",
   "nbconvert_exporter": "python",
   "pygments_lexer": "ipython3",
   "version": "3.9.7"
  },
  "orig_nbformat": 4
 },
 "nbformat": 4,
 "nbformat_minor": 2
}
