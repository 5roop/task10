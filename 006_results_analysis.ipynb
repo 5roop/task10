{
 "cells": [
  {
   "cell_type": "code",
   "execution_count": 16,
   "metadata": {},
   "outputs": [],
   "source": [
    "import pandas as pd\n",
    "with open(\"005_results.jsonl\", \"r\") as f:\n",
    "    contents = f.readlines()\n",
    "from ast import literal_eval\n",
    "contents = [literal_eval(i) for i in contents]\n",
    "\n",
    "df = pd.DataFrame(data=contents)"
   ]
  },
  {
   "cell_type": "markdown",
   "metadata": {},
   "source": [
    "# First question: which model proved best?"
   ]
  },
  {
   "cell_type": "code",
   "execution_count": 35,
   "metadata": {},
   "outputs": [
    {
     "data": {
      "text/html": [
       "<div>\n",
       "<style scoped>\n",
       "    .dataframe tbody tr th:only-of-type {\n",
       "        vertical-align: middle;\n",
       "    }\n",
       "\n",
       "    .dataframe tbody tr th {\n",
       "        vertical-align: top;\n",
       "    }\n",
       "\n",
       "    .dataframe thead tr th {\n",
       "        text-align: left;\n",
       "    }\n",
       "\n",
       "    .dataframe thead tr:last-of-type th {\n",
       "        text-align: right;\n",
       "    }\n",
       "</style>\n",
       "<table border=\"1\" class=\"dataframe\">\n",
       "  <thead>\n",
       "    <tr>\n",
       "      <th></th>\n",
       "      <th colspan=\"2\" halign=\"left\">macroF1</th>\n",
       "    </tr>\n",
       "    <tr>\n",
       "      <th></th>\n",
       "      <th>macroF1_stats</th>\n",
       "      <th>len</th>\n",
       "    </tr>\n",
       "    <tr>\n",
       "      <th>model_name</th>\n",
       "      <th></th>\n",
       "      <th></th>\n",
       "    </tr>\n",
       "  </thead>\n",
       "  <tbody>\n",
       "    <tr>\n",
       "      <th>classla/bcms-bertic</th>\n",
       "      <td>0.7925 +/- 0.0126</td>\n",
       "      <td>6.0</td>\n",
       "    </tr>\n",
       "    <tr>\n",
       "      <th>EMBEDDIA/crosloengual-bert</th>\n",
       "      <td>0.7683 +/- 0.0066</td>\n",
       "      <td>6.0</td>\n",
       "    </tr>\n",
       "    <tr>\n",
       "      <th>xlm-roberta-base</th>\n",
       "      <td>0.7620 +/- 0.0108</td>\n",
       "      <td>6.0</td>\n",
       "    </tr>\n",
       "  </tbody>\n",
       "</table>\n",
       "</div>"
      ],
      "text/plain": [
       "                                      macroF1     \n",
       "                                macroF1_stats  len\n",
       "model_name                                        \n",
       "classla/bcms-bertic         0.7925 +/- 0.0126  6.0\n",
       "EMBEDDIA/crosloengual-bert  0.7683 +/- 0.0066  6.0\n",
       "xlm-roberta-base            0.7620 +/- 0.0108  6.0"
      ]
     },
     "execution_count": 35,
     "metadata": {},
     "output_type": "execute_result"
    }
   ],
   "source": [
    "import numpy as np\n",
    "\n",
    "C_trained_on_train = df.train_split == \"train\"\n",
    "C_evaled_on_test = df.eval_split == \"test\"\n",
    "from typing import Iterable\n",
    "def macroF1_stats(i: Iterable[float]) -> str:\n",
    "    return f\"{np.mean(i):0.4f} ± {np.std(i):0.4f}\"\n",
    "df[C_trained_on_train & C_evaled_on_test].groupby(\"model_name\").agg(\n",
    "    [macroF1_stats, len]\n",
    ").sort_values(by=(\"macroF1\",\"macroF1_stats\"), ascending=False)\n"
   ]
  },
  {
   "cell_type": "markdown",
   "metadata": {},
   "source": [
    "## Is bertic better than cse bert?"
   ]
  },
  {
   "cell_type": "code",
   "execution_count": 56,
   "metadata": {},
   "outputs": [
    {
     "data": {
      "text/plain": [
       "0.0065326133822129805"
      ]
     },
     "execution_count": 56,
     "metadata": {},
     "output_type": "execute_result"
    }
   ],
   "source": [
    "from scipy.stats import mannwhitneyu\n",
    "\n",
    "C_model_bertic = df.model_name == \"classla/bcms-bertic\"\n",
    "C_model_csebert = df.model_name == \"EMBEDDIA/crosloengual-bert\"\n",
    "\n",
    "bertic = df[C_trained_on_train & C_evaled_on_test & C_model_bertic].macroF1     \n",
    "csebert = df[C_trained_on_train & C_evaled_on_test & C_model_csebert].macroF1   \n",
    "\n",
    "\n",
    "mannwhitneyu(bertic, csebert, alternative=\"greater\").pvalue\n"
   ]
  },
  {
   "cell_type": "code",
   "execution_count": 57,
   "metadata": {},
   "outputs": [],
   "source": [
    "from pint import UnitRegistry\n",
    "u = UnitRegistry()"
   ]
  },
  {
   "cell_type": "code",
   "execution_count": null,
   "metadata": {},
   "outputs": [],
   "source": []
  },
  {
   "cell_type": "code",
   "execution_count": 44,
   "metadata": {},
   "outputs": [
    {
     "data": {
      "image/png": "[encoded data removed]",
      "text/plain": [
       "<Figure size 252x189 with 2 Axes>"
      ]
     },
     "metadata": {
      "needs_background": "light"
     },
     "output_type": "display_data"
    }
   ],
   "source": [
    "C_model_bertic = df.model_name == \"classla/bcms-bertic\"\n",
    "\n",
    "subset = df[C_trained_on_train & C_evaled_on_test & C_model_bertic]\n",
    "best_result = subset.iloc[subset.macroF1.argmax(), :]\n",
    "y_true = best_result[\"y_true\"]\n",
    "y_pred = best_result[\"y_pred\"]\n",
    "\n",
    "import matplotlib.pyplot as plt\n",
    "plt.style.use(\"science no-latex\".split())\n",
    "from sklearn.metrics import ConfusionMatrixDisplay\n",
    "\n",
    "ConfusionMatrixDisplay.from_predictions(\n",
    "   y_true, y_pred, cmap=\"Oranges\", labels=[\"Negative\", \"Neutral\", \"Positive\"],\n",
    "   normalize=\"true\"\n",
    "   )\n",
    "\n",
    "plt.title(\"Best model CM\\n(classla/bcms-bertic)\")\n",
    "plt.savefig()\n",
    "plt.show()\n"
   ]
  },
  {
   "cell_type": "code",
   "execution_count": 80,
   "metadata": {},
   "outputs": [
    {
     "data": {
      "image/png": "[encoded data removed]",
      "text/plain": [
       "<Figure size 504x360 with 1 Axes>"
      ]
     },
     "metadata": {
      "needs_background": "light"
     },
     "output_type": "display_data"
    }
   ],
   "source": [
    "rezs = pd.read_csv(\"results3.csv\")\n",
    "\n",
    "rezs = rezs[rezs.batch_size == 8]\n",
    "\n",
    "fig, ax = plt.subplots(figsize=(7,5))\n",
    "\n",
    "for model_name in rezs.model_name.unique():\n",
    "    rezs[rezs.model_name == model_name].plot(x=\"epochs\", y=\"macroF1\", ax=ax, label=model_name)\n",
    "plt.show()"
   ]
  },
  {
   "cell_type": "code",
   "execution_count": 79,
   "metadata": {},
   "outputs": [
    {
     "name": "stdout",
     "output_type": "stream",
     "text": [
      "optimal epoch number for model xlm-roberta-base :  [15]\n",
      "optimal epoch number for model EMBEDDIA/crosloengual-bert :  [15]\n",
      "optimal epoch number for model classla/bcms-bertic :  [45]\n"
     ]
    },
    {
     "data": {
      "image/png": "[encoded data removed]",
      "text/plain": [
       "<Figure size 504x360 with 1 Axes>"
      ]
     },
     "metadata": {
      "needs_background": "light"
     },
     "output_type": "display_data"
    }
   ],
   "source": [
    "rezs = pd.read_csv(\"results3.csv\")\n",
    "\n",
    "rezs = rezs[rezs.batch_size == 8]\n",
    "\n",
    "fig, ax = plt.subplots(figsize=(7,5))\n",
    "\n",
    "for model_name in rezs.model_name.unique():\n",
    "    rezs[rezs.model_name == model_name].plot(x=\"epochs\", y=\"macroF1\", ax=ax, label=model_name)\n",
    "    max_f1 = rezs[rezs.model_name == model_name].macroF1.max()\n",
    "    print(\"optimal epoch number for model\", model_name, \": \", rezs[rezs.macroF1 == max_f1][\"epochs\"].tolist()  )\n",
    "plt.show()"
   ]
  },
  {
   "cell_type": "code",
   "execution_count": 69,
   "metadata": {},
   "outputs": [
    {
     "data": {
      "text/plain": [
       "array([5])"
      ]
     },
     "execution_count": 69,
     "metadata": {},
     "output_type": "execute_result"
    }
   ],
   "source": [
    "rezs[rezs.macroF1 == max_f1][\"epochs\"].values"
   ]
  },
  {
   "cell_type": "code",
   "execution_count": 75,
   "metadata": {},
   "outputs": [
    {
     "data": {
      "text/html": [
       "<div>\n",
       "<style scoped>\n",
       "    .dataframe tbody tr th:only-of-type {\n",
       "        vertical-align: middle;\n",
       "    }\n",
       "\n",
       "    .dataframe tbody tr th {\n",
       "        vertical-align: top;\n",
       "    }\n",
       "\n",
       "    .dataframe thead th {\n",
       "        text-align: right;\n",
       "    }\n",
       "</style>\n",
       "<table border=\"1\" class=\"dataframe\">\n",
       "  <thead>\n",
       "    <tr style=\"text-align: right;\">\n",
       "      <th></th>\n",
       "      <th>model_name</th>\n",
       "      <th>model_type</th>\n",
       "      <th>epochs</th>\n",
       "      <th>batch_size</th>\n",
       "      <th>macroF1</th>\n",
       "    </tr>\n",
       "  </thead>\n",
       "  <tbody>\n",
       "    <tr>\n",
       "      <th>0</th>\n",
       "      <td>xlm-roberta-base</td>\n",
       "      <td>xlmroberta</td>\n",
       "      <td>3</td>\n",
       "      <td>8</td>\n",
       "      <td>0.805195</td>\n",
       "    </tr>\n",
       "    <tr>\n",
       "      <th>1</th>\n",
       "      <td>xlm-roberta-base</td>\n",
       "      <td>xlmroberta</td>\n",
       "      <td>3</td>\n",
       "      <td>8</td>\n",
       "      <td>0.800266</td>\n",
       "    </tr>\n",
       "    <tr>\n",
       "      <th>2</th>\n",
       "      <td>EMBEDDIA/crosloengual-bert</td>\n",
       "      <td>bert</td>\n",
       "      <td>3</td>\n",
       "      <td>8</td>\n",
       "      <td>0.819474</td>\n",
       "    </tr>\n",
       "    <tr>\n",
       "      <th>3</th>\n",
       "      <td>xlm-roberta-base</td>\n",
       "      <td>xlmroberta</td>\n",
       "      <td>3</td>\n",
       "      <td>8</td>\n",
       "      <td>0.794719</td>\n",
       "    </tr>\n",
       "    <tr>\n",
       "      <th>4</th>\n",
       "      <td>classla/bcms-bertic</td>\n",
       "      <td>electra</td>\n",
       "      <td>3</td>\n",
       "      <td>8</td>\n",
       "      <td>0.813184</td>\n",
       "    </tr>\n",
       "    <tr>\n",
       "      <th>5</th>\n",
       "      <td>EMBEDDIA/crosloengual-bert</td>\n",
       "      <td>bert</td>\n",
       "      <td>5</td>\n",
       "      <td>8</td>\n",
       "      <td>0.832538</td>\n",
       "    </tr>\n",
       "    <tr>\n",
       "      <th>6</th>\n",
       "      <td>xlm-roberta-base</td>\n",
       "      <td>xlmroberta</td>\n",
       "      <td>5</td>\n",
       "      <td>8</td>\n",
       "      <td>0.799201</td>\n",
       "    </tr>\n",
       "    <tr>\n",
       "      <th>7</th>\n",
       "      <td>classla/bcms-bertic</td>\n",
       "      <td>electra</td>\n",
       "      <td>5</td>\n",
       "      <td>8</td>\n",
       "      <td>0.856857</td>\n",
       "    </tr>\n",
       "    <tr>\n",
       "      <th>8</th>\n",
       "      <td>EMBEDDIA/crosloengual-bert</td>\n",
       "      <td>bert</td>\n",
       "      <td>9</td>\n",
       "      <td>8</td>\n",
       "      <td>0.823234</td>\n",
       "    </tr>\n",
       "    <tr>\n",
       "      <th>9</th>\n",
       "      <td>xlm-roberta-base</td>\n",
       "      <td>xlmroberta</td>\n",
       "      <td>9</td>\n",
       "      <td>8</td>\n",
       "      <td>0.801040</td>\n",
       "    </tr>\n",
       "    <tr>\n",
       "      <th>10</th>\n",
       "      <td>classla/bcms-bertic</td>\n",
       "      <td>electra</td>\n",
       "      <td>9</td>\n",
       "      <td>8</td>\n",
       "      <td>0.831111</td>\n",
       "    </tr>\n",
       "    <tr>\n",
       "      <th>11</th>\n",
       "      <td>EMBEDDIA/crosloengual-bert</td>\n",
       "      <td>bert</td>\n",
       "      <td>15</td>\n",
       "      <td>8</td>\n",
       "      <td>0.848155</td>\n",
       "    </tr>\n",
       "    <tr>\n",
       "      <th>12</th>\n",
       "      <td>xlm-roberta-base</td>\n",
       "      <td>xlmroberta</td>\n",
       "      <td>15</td>\n",
       "      <td>8</td>\n",
       "      <td>0.823630</td>\n",
       "    </tr>\n",
       "    <tr>\n",
       "      <th>13</th>\n",
       "      <td>classla/bcms-bertic</td>\n",
       "      <td>electra</td>\n",
       "      <td>15</td>\n",
       "      <td>8</td>\n",
       "      <td>0.823338</td>\n",
       "    </tr>\n",
       "    <tr>\n",
       "      <th>14</th>\n",
       "      <td>EMBEDDIA/crosloengual-bert</td>\n",
       "      <td>bert</td>\n",
       "      <td>23</td>\n",
       "      <td>8</td>\n",
       "      <td>0.834565</td>\n",
       "    </tr>\n",
       "    <tr>\n",
       "      <th>15</th>\n",
       "      <td>xlm-roberta-base</td>\n",
       "      <td>xlmroberta</td>\n",
       "      <td>23</td>\n",
       "      <td>8</td>\n",
       "      <td>0.810353</td>\n",
       "    </tr>\n",
       "    <tr>\n",
       "      <th>16</th>\n",
       "      <td>classla/bcms-bertic</td>\n",
       "      <td>electra</td>\n",
       "      <td>23</td>\n",
       "      <td>8</td>\n",
       "      <td>0.826131</td>\n",
       "    </tr>\n",
       "    <tr>\n",
       "      <th>17</th>\n",
       "      <td>EMBEDDIA/crosloengual-bert</td>\n",
       "      <td>bert</td>\n",
       "      <td>33</td>\n",
       "      <td>8</td>\n",
       "      <td>0.821202</td>\n",
       "    </tr>\n",
       "    <tr>\n",
       "      <th>18</th>\n",
       "      <td>xlm-roberta-base</td>\n",
       "      <td>xlmroberta</td>\n",
       "      <td>33</td>\n",
       "      <td>8</td>\n",
       "      <td>0.780179</td>\n",
       "    </tr>\n",
       "    <tr>\n",
       "      <th>19</th>\n",
       "      <td>classla/bcms-bertic</td>\n",
       "      <td>electra</td>\n",
       "      <td>33</td>\n",
       "      <td>8</td>\n",
       "      <td>0.842570</td>\n",
       "    </tr>\n",
       "  </tbody>\n",
       "</table>\n",
       "</div>"
      ],
      "text/plain": [
       "                    model_name  model_type  epochs  batch_size   macroF1\n",
       "0             xlm-roberta-base  xlmroberta       3           8  0.805195\n",
       "1             xlm-roberta-base  xlmroberta       3           8  0.800266\n",
       "2   EMBEDDIA/crosloengual-bert        bert       3           8  0.819474\n",
       "3             xlm-roberta-base  xlmroberta       3           8  0.794719\n",
       "4          classla/bcms-bertic     electra       3           8  0.813184\n",
       "5   EMBEDDIA/crosloengual-bert        bert       5           8  0.832538\n",
       "6             xlm-roberta-base  xlmroberta       5           8  0.799201\n",
       "7          classla/bcms-bertic     electra       5           8  0.856857\n",
       "8   EMBEDDIA/crosloengual-bert        bert       9           8  0.823234\n",
       "9             xlm-roberta-base  xlmroberta       9           8  0.801040\n",
       "10         classla/bcms-bertic     electra       9           8  0.831111\n",
       "11  EMBEDDIA/crosloengual-bert        bert      15           8  0.848155\n",
       "12            xlm-roberta-base  xlmroberta      15           8  0.823630\n",
       "13         classla/bcms-bertic     electra      15           8  0.823338\n",
       "14  EMBEDDIA/crosloengual-bert        bert      23           8  0.834565\n",
       "15            xlm-roberta-base  xlmroberta      23           8  0.810353\n",
       "16         classla/bcms-bertic     electra      23           8  0.826131\n",
       "17  EMBEDDIA/crosloengual-bert        bert      33           8  0.821202\n",
       "18            xlm-roberta-base  xlmroberta      33           8  0.780179\n",
       "19         classla/bcms-bertic     electra      33           8  0.842570"
      ]
     },
     "execution_count": 75,
     "metadata": {},
     "output_type": "execute_result"
    }
   ],
   "source": [
    "rezs"
   ]
  },
  {
   "cell_type": "code",
   "execution_count": null,
   "metadata": {},
   "outputs": [],
   "source": []
  }
 ],
 "metadata": {
  "interpreter": {
   "hash": "7f6f5766036ee03d059e365a942add07f79c17033585e9357ee8157d52fe6bb9"
  },
  "kernelspec": {
   "display_name": "Python 3.8.3 ('base')",
   "language": "python",
   "name": "python3"
  },
  "language_info": {
   "codemirror_mode": {
    "name": "ipython",
    "version": 3
   },
   "file_extension": ".py",
   "mimetype": "text/x-python",
   "name": "python",
   "nbconvert_exporter": "python",
   "pygments_lexer": "ipython3",
   "version": "3.8.3"
  },
  "orig_nbformat": 4
 },
 "nbformat": 4,
 "nbformat_minor": 2
}
