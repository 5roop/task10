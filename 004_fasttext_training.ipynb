{
 "cells": [
  {
   "cell_type": "markdown",
   "metadata": {},
   "source": [
    "Prepare fasttext file"
   ]
  },
  {
   "cell_type": "code",
   "execution_count": 1,
   "metadata": {},
   "outputs": [
    {
     "data": {
      "text/plain": [
       "Index(['sentence', 'country', 'type', 'annotator1', 'annotator2', 'gold',\n",
       "       'reconciliation_hard', 'id_meta', 'term', 'doc_id', 'sentence_id',\n",
       "       'date', 'fullname', 'party', 'gender', 'yob', 'edu_y', 'ideology',\n",
       "       'no_seats', 'ruling', 'label', 'origin', 'split'],\n",
       "      dtype='object')"
      ]
     },
     "execution_count": 1,
     "metadata": {},
     "output_type": "execute_result"
    }
   ],
   "source": [
    "import pandas as pd\n",
    "data = pd.read_json(\"bcs_polsent.jsonl\", orient=\"records\", lines=True)\n",
    "data.columns"
   ]
  },
  {
   "cell_type": "code",
   "execution_count": 2,
   "metadata": {},
   "outputs": [],
   "source": [
    "data = data.loc[ :, [\"sentence\", \"label\", \"split\", \"country\"]]\n"
   ]
  },
  {
   "cell_type": "code",
   "execution_count": 3,
   "metadata": {},
   "outputs": [],
   "source": [
    "train = data[data.split==\"train\"]\n",
    "test = data[data.split==\"test\"]\n",
    "dev = data[data.split==\"dev\"]"
   ]
  },
  {
   "cell_type": "code",
   "execution_count": 4,
   "metadata": {},
   "outputs": [
    {
     "name": "stdout",
     "output_type": "stream",
     "text": [
      "mkdir: cannot create directory ‘fasttext_data’: File exists\n"
     ]
    }
   ],
   "source": [
    "!mkdir fasttext_data"
   ]
  },
  {
   "cell_type": "code",
   "execution_count": 5,
   "metadata": {},
   "outputs": [],
   "source": [
    "with open(\"fasttext_data/train.txt\", \"w\") as f:\n",
    "    for i, row in train.iterrows():\n",
    "        f.write(f\"__label__{row['label']} {row['sentence']}\\n\")\n",
    "with open(\"fasttext_data/test.txt\", \"w\") as f:\n",
    "    for i, row in test.iterrows():\n",
    "        f.write(f\"__label__{row['label']} {row['sentence']}\\n\")\n",
    "with open(\"fasttext_data/dev.txt\", \"w\") as f:\n",
    "    for i, row in dev.iterrows():\n",
    "        f.write(f\"__label__{row['label']} {row['sentence']}\\n\")"
   ]
  },
  {
   "cell_type": "code",
   "execution_count": 6,
   "metadata": {},
   "outputs": [],
   "source": [
    "import fasttext"
   ]
  },
  {
   "cell_type": "markdown",
   "metadata": {},
   "source": [
    "Fasttext embeddings obtained from http://hdl.handle.net/11356/1205"
   ]
  },
  {
   "cell_type": "code",
   "execution_count": 12,
   "metadata": {},
   "outputs": [
    {
     "name": "stdout",
     "output_type": "stream",
     "text": [
      "macro f1 on test: 0.4715 +/- 0.0090, sample of 50\n"
     ]
    }
   ],
   "source": [
    "import numpy as np\n",
    "from sklearn.metrics import f1_score\n",
    "f1s = []\n",
    "for i in range(50):\n",
    "    model = fasttext.train_supervised(input=\"fasttext_data/train.txt\", epoch = 16)\n",
    "    y_pred = model.predict(test.sentence.tolist())[0]\n",
    "    y_pred = [i[0][9:] for i in y_pred]\n",
    "    y_true = test.label.tolist()\n",
    "\n",
    "    f1 = f1_score(\n",
    "        y_true, y_pred, average=\"macro\", labels=[\"Positive\", \"Neutral\", \"Negative\"]\n",
    "    )\n",
    "    f1s.append(f1)\n",
    "\n",
    "print(f\"macro f1 on test: {np.mean(f1s):0.4f} +/- {np.std(f1s):0.4f}, sample of {len(f1s)}\")"
   ]
  },
  {
   "cell_type": "code",
   "execution_count": 13,
   "metadata": {},
   "outputs": [
    {
     "data": {
      "image/png": "[encoded data removed]",
      "text/plain": [
       "<Figure size 252x189 with 2 Axes>"
      ]
     },
     "metadata": {
      "needs_background": "light"
     },
     "output_type": "display_data"
    }
   ],
   "source": [
    "import matplotlib.pyplot as plt\n",
    "from sklearn.metrics import ConfusionMatrixDisplay\n",
    "plt.style.use(\"science no-latex\".split())\n",
    "\n",
    "ConfusionMatrixDisplay.from_predictions(\n",
    "   y_true, y_pred, cmap=\"Oranges\", labels=[\"Negative\", \"Neutral\", \"Positive\"])\n",
    "plt.title(\"fasttext on test, 16 epochs\")\n",
    "plt.savefig(\"images/004_CM_fasttext.png\")\n",
    "plt.savefig(\"images/004_CM_fasttext.pdf\")\n",
    "plt.show()"
   ]
  },
  {
   "cell_type": "code",
   "execution_count": 10,
   "metadata": {},
   "outputs": [
    {
     "data": {
      "application/vnd.jupyter.widget-view+json": {
       "model_id": "51973a6cf13946d9ba1df99f0276ea47",
       "version_major": 2,
       "version_minor": 0
      },
      "text/plain": [
       "  0%|          | 0/10 [00:00<?, ?it/s]"
      ]
     },
     "metadata": {},
     "output_type": "display_data"
    },
    {
     "name": "stdout",
     "output_type": "stream",
     "text": [
      "macro f1 with embeddings on test: 0.6312 +/- 0.0043, sample of 10\n"
     ]
    }
   ],
   "source": [
    "import numpy as np\n",
    "from sklearn.metrics import f1_score\n",
    "\n",
    "f1s = []\n",
    "from tqdm.auto import tqdm\n",
    "for i in tqdm(range(10)):\n",
    "    model = fasttext.train_supervised(\n",
    "        input=\"fasttext_data/train.txt\",\n",
    "        epoch=5,\n",
    "        pretrainedVectors=\"fasttext_embeddings/embed.hr-token.ft.sg.vec\",\n",
    "    )\n",
    "    y_pred = model.predict(test.sentence.tolist())[0]\n",
    "    y_pred = [i[0][9:] for i in y_pred]\n",
    "    y_true = test.label.tolist()\n",
    "\n",
    "    f1 = f1_score(\n",
    "        y_true, y_pred, average=\"macro\", labels=[\"Positive\", \"Neutral\", \"Negative\"]\n",
    "    )\n",
    "    f1s.append(f1)\n",
    "\n",
    "print(\n",
    "    f\"macro f1 with embeddings on test: {np.mean(f1s):0.4f} +/- {np.std(f1s):0.4f}, sample of {len(f1s)}\"\n",
    ")\n"
   ]
  },
  {
   "cell_type": "code",
   "execution_count": 11,
   "metadata": {},
   "outputs": [
    {
     "data": {
      "image/png": "[encoded data removed]",
      "text/plain": [
       "<Figure size 252x189 with 2 Axes>"
      ]
     },
     "metadata": {
      "needs_background": "light"
     },
     "output_type": "display_data"
    }
   ],
   "source": [
    "import matplotlib.pyplot as plt\n",
    "from sklearn.metrics import ConfusionMatrixDisplay\n",
    "plt.style.use(\"science no-latex\".split())\n",
    "\n",
    "ConfusionMatrixDisplay.from_predictions(\n",
    "   y_true, y_pred, cmap=\"Oranges\", labels=[\"Negative\", \"Neutral\", \"Positive\"])\n",
    "plt.title(\"fasttext on test, 5 epochs, with embeddings\")\n",
    "plt.savefig(\"images/004_CM_fasttext_with_embeddings.png\")\n",
    "plt.savefig(\"images/004_CM_fasttext_with_embeddings.pdf\")\n",
    "plt.show()"
   ]
  },
  {
   "cell_type": "markdown",
   "metadata": {},
   "source": [
    "# Fasttext trained on specific language"
   ]
  },
  {
   "cell_type": "markdown",
   "metadata": {},
   "source": [
    "Pars prima: prepare new data"
   ]
  },
  {
   "cell_type": "code",
   "execution_count": 14,
   "metadata": {},
   "outputs": [
    {
     "data": {
      "text/plain": [
       "array(['BiH', 'HR', 'SRB'], dtype=object)"
      ]
     },
     "execution_count": 14,
     "metadata": {},
     "output_type": "execute_result"
    }
   ],
   "source": [
    "train.country.unique()"
   ]
  },
  {
   "cell_type": "code",
   "execution_count": 16,
   "metadata": {},
   "outputs": [],
   "source": [
    "\n",
    "for split in [\"train\",\"test\"]:\n",
    "    for lang in [\"HR\", \"SRB\"]:\n",
    "        condition = eval(split).country == lang\n",
    "        with open(f\"fasttext_data/{split}_{lang}.txt\", \"w\") as f:\n",
    "            for i, row in eval(split)[condition].iterrows():\n",
    "                f.write(f\"__label__{row['label']} {row['sentence']}\\n\")"
   ]
  },
  {
   "cell_type": "code",
   "execution_count": 30,
   "metadata": {},
   "outputs": [
    {
     "data": {
      "application/vnd.jupyter.widget-view+json": {
       "model_id": "5afe4c337b2b442ebddd59ab027ace52",
       "version_major": 2,
       "version_minor": 0
      },
      "text/plain": [
       "  0%|          | 0/50 [00:00<?, ?it/s]"
      ]
     },
     "metadata": {},
     "output_type": "display_data"
    },
    {
     "data": {
      "text/html": [
       "<div>\n",
       "<style scoped>\n",
       "    .dataframe tbody tr th:only-of-type {\n",
       "        vertical-align: middle;\n",
       "    }\n",
       "\n",
       "    .dataframe tbody tr th {\n",
       "        vertical-align: top;\n",
       "    }\n",
       "\n",
       "    .dataframe thead th {\n",
       "        text-align: right;\n",
       "    }\n",
       "</style>\n",
       "<table border=\"1\" class=\"dataframe\">\n",
       "  <thead>\n",
       "    <tr style=\"text-align: right;\">\n",
       "      <th></th>\n",
       "      <th></th>\n",
       "      <th>f1</th>\n",
       "    </tr>\n",
       "    <tr>\n",
       "      <th>train_lang</th>\n",
       "      <th>eval_lang</th>\n",
       "      <th></th>\n",
       "    </tr>\n",
       "  </thead>\n",
       "  <tbody>\n",
       "    <tr>\n",
       "      <th rowspan=\"2\" valign=\"top\">HR</th>\n",
       "      <th>HR</th>\n",
       "      <td>0.4133 +/- 0.0093</td>\n",
       "    </tr>\n",
       "    <tr>\n",
       "      <th>SRB</th>\n",
       "      <td>0.3958 +/- 0.0150</td>\n",
       "    </tr>\n",
       "    <tr>\n",
       "      <th rowspan=\"2\" valign=\"top\">SRB</th>\n",
       "      <th>HR</th>\n",
       "      <td>0.3151 +/- 0.0103</td>\n",
       "    </tr>\n",
       "    <tr>\n",
       "      <th>SRB</th>\n",
       "      <td>0.2609 +/- 0.0164</td>\n",
       "    </tr>\n",
       "  </tbody>\n",
       "</table>\n",
       "</div>"
      ],
      "text/plain": [
       "                                     f1\n",
       "train_lang eval_lang                   \n",
       "HR         HR         0.4133 +/- 0.0093\n",
       "           SRB        0.3958 +/- 0.0150\n",
       "SRB        HR         0.3151 +/- 0.0103\n",
       "           SRB        0.2609 +/- 0.0164"
      ]
     },
     "execution_count": 30,
     "metadata": {},
     "output_type": "execute_result"
    }
   ],
   "source": [
    "results = []\n",
    "from tqdm.auto import tqdm\n",
    "for i in tqdm(range(50)):\n",
    "    for train_lang in [\"HR\", \"SRB\"]:\n",
    "        train_file = f\"fasttext_data/train_{train_lang}.txt\"\n",
    "        model = fasttext.train_supervised(\n",
    "            input=train_file,\n",
    "            epoch=16,\n",
    "        )\n",
    "        for eval_lang in [\"HR\", \"SRB\"]:\n",
    "            eval_df = test[test.country == eval_lang]\n",
    "            y_pred = model.predict(eval_df.sentence.tolist())[0]\n",
    "            y_pred = [i[0][9:] for i in y_pred]\n",
    "            y_true = eval_df.label.tolist()\n",
    "\n",
    "            f1 = f1_score(\n",
    "                y_true, y_pred, average=\"macro\", labels=[\"Positive\", \"Neutral\", \"Negative\"]\n",
    "            )\n",
    "            results.append(\n",
    "                {\n",
    "                    \"train_lang\": train_lang,\n",
    "                    \"eval_lang\": eval_lang,\n",
    "                    \"f1\": f1\n",
    "                }\n",
    "            )\n",
    "import pandas as pd\n",
    "df = pd.DataFrame(data=results)\n",
    "df.groupby([\"train_lang\", \"eval_lang\"]).agg(lambda i: f\"{np.mean(i):0.4f} +/- {np.std(i):0.4f}\")"
   ]
  },
  {
   "cell_type": "code",
   "execution_count": 29,
   "metadata": {},
   "outputs": [
    {
     "data": {
      "application/vnd.jupyter.widget-view+json": {
       "model_id": "cd77e717830b4bbdb65b80e21949712c",
       "version_major": 2,
       "version_minor": 0
      },
      "text/plain": [
       "  0%|          | 0/5 [00:00<?, ?it/s]"
      ]
     },
     "metadata": {},
     "output_type": "display_data"
    },
    {
     "data": {
      "text/html": [
       "<div>\n",
       "<style scoped>\n",
       "    .dataframe tbody tr th:only-of-type {\n",
       "        vertical-align: middle;\n",
       "    }\n",
       "\n",
       "    .dataframe tbody tr th {\n",
       "        vertical-align: top;\n",
       "    }\n",
       "\n",
       "    .dataframe thead th {\n",
       "        text-align: right;\n",
       "    }\n",
       "</style>\n",
       "<table border=\"1\" class=\"dataframe\">\n",
       "  <thead>\n",
       "    <tr style=\"text-align: right;\">\n",
       "      <th></th>\n",
       "      <th></th>\n",
       "      <th>f1</th>\n",
       "    </tr>\n",
       "    <tr>\n",
       "      <th>train_lang</th>\n",
       "      <th>eval_lang</th>\n",
       "      <th></th>\n",
       "    </tr>\n",
       "  </thead>\n",
       "  <tbody>\n",
       "    <tr>\n",
       "      <th rowspan=\"2\" valign=\"top\">HR</th>\n",
       "      <th>HR</th>\n",
       "      <td>0.6379 +/- 0.0097</td>\n",
       "    </tr>\n",
       "    <tr>\n",
       "      <th>SRB</th>\n",
       "      <td>0.6356 +/- 0.0073</td>\n",
       "    </tr>\n",
       "    <tr>\n",
       "      <th rowspan=\"2\" valign=\"top\">SRB</th>\n",
       "      <th>HR</th>\n",
       "      <td>0.6194 +/- 0.0029</td>\n",
       "    </tr>\n",
       "    <tr>\n",
       "      <th>SRB</th>\n",
       "      <td>0.5781 +/- 0.0098</td>\n",
       "    </tr>\n",
       "  </tbody>\n",
       "</table>\n",
       "</div>"
      ],
      "text/plain": [
       "                                     f1\n",
       "train_lang eval_lang                   \n",
       "HR         HR         0.6379 +/- 0.0097\n",
       "           SRB        0.6356 +/- 0.0073\n",
       "SRB        HR         0.6194 +/- 0.0029\n",
       "           SRB        0.5781 +/- 0.0098"
      ]
     },
     "execution_count": 29,
     "metadata": {},
     "output_type": "execute_result"
    }
   ],
   "source": [
    "results_emb = []\n",
    "from tqdm.auto import tqdm\n",
    "for i in tqdm(range(5)):\n",
    "    for train_lang in [\"HR\", \"SRB\"]:\n",
    "        train_file = f\"fasttext_data/train_{train_lang}.txt\"\n",
    "        model = fasttext.train_supervised(\n",
    "            input=train_file,\n",
    "            epoch=5,\n",
    "            pretrainedVectors=\"fasttext_embeddings/embed.hr-token.ft.sg.vec\",\n",
    "        )\n",
    "        for eval_lang in [\"HR\", \"SRB\"]:\n",
    "            eval_df = test[test.country == eval_lang]\n",
    "            y_pred = model.predict(eval_df.sentence.tolist())[0]\n",
    "            y_pred = [i[0][9:] for i in y_pred]\n",
    "            y_true = eval_df.label.tolist()\n",
    "\n",
    "            f1 = f1_score(\n",
    "                y_true, y_pred, average=\"macro\", labels=[\"Positive\", \"Neutral\", \"Negative\"]\n",
    "            )\n",
    "            results_emb.append(\n",
    "                {\n",
    "                    \"train_lang\": train_lang,\n",
    "                    \"eval_lang\": eval_lang,\n",
    "                    \"f1\": f1\n",
    "                }\n",
    "            )\n",
    "df_emb = pd.DataFrame(data=results_emb).groupby([\"train_lang\", \"eval_lang\"]).agg(lambda i: f\"{np.mean(i):0.4f} +/- {np.std(i):0.4f}\")\n",
    "df_emb"
   ]
  },
  {
   "cell_type": "code",
   "execution_count": 34,
   "metadata": {},
   "outputs": [
    {
     "name": "stdout",
     "output_type": "stream",
     "text": [
      "macro f1 on test, SRB SRB: 0.5828 +/- 0.0047, sample of 5\n"
     ]
    }
   ],
   "source": [
    "from sklearn.metrics import f1_score\n",
    "f1s = []\n",
    "for i in range(5):\n",
    "    model = fasttext.train_supervised(input=\"fasttext_data/train_SRB.txt\", epoch = 5,\n",
    "    pretrainedVectors=\"fasttext_embeddings/embed.hr-token.ft.sg.vec\")\n",
    "    y_pred = model.predict(test[test.country == \"SRB\"].sentence.tolist())[0]\n",
    "    y_pred = [i[0][9:] for i in y_pred]\n",
    "    y_true = test[test.country==\"SRB\"].label.tolist()\n",
    "\n",
    "    f1 = f1_score(\n",
    "        y_true, y_pred, average=\"macro\", labels=[\"Positive\", \"Neutral\", \"Negative\"]\n",
    "    )\n",
    "    f1s.append(f1)\n",
    "\n",
    "print(f\"macro f1 on test, SRB SRB: {np.mean(f1s):0.4f} +/- {np.std(f1s):0.4f}, sample of {len(f1s)}\")"
   ]
  },
  {
   "cell_type": "code",
   "execution_count": 37,
   "metadata": {},
   "outputs": [
    {
     "data": {
      "text/plain": [
       "(119, 4)"
      ]
     },
     "execution_count": 37,
     "metadata": {},
     "output_type": "execute_result"
    }
   ],
   "source": [
    "pd.set_option(\"display.max_rows\", None)\n",
    "test[test.country == \"SRB\"].shape"
   ]
  },
  {
   "cell_type": "code",
   "execution_count": null,
   "metadata": {},
   "outputs": [],
   "source": []
  }
 ],
 "metadata": {
  "interpreter": {
   "hash": "7f6f5766036ee03d059e365a942add07f79c17033585e9357ee8157d52fe6bb9"
  },
  "kernelspec": {
   "display_name": "Python 3.8.3 ('base')",
   "language": "python",
   "name": "python3"
  },
  "language_info": {
   "codemirror_mode": {
    "name": "ipython",
    "version": 3
   },
   "file_extension": ".py",
   "mimetype": "text/x-python",
   "name": "python",
   "nbconvert_exporter": "python",
   "pygments_lexer": "ipython3",
   "version": "3.8.3"
  },
  "orig_nbformat": 4
 },
 "nbformat": 4,
 "nbformat_minor": 2
}
