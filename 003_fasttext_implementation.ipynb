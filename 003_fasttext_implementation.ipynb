{
 "cells": [
  {
   "cell_type": "markdown",
   "metadata": {},
   "source": [
    "Prepare fasttext file"
   ]
  },
  {
   "cell_type": "code",
   "execution_count": 1,
   "metadata": {},
   "outputs": [],
   "source": [
    "import pandas as pd\n",
    "data = pd.read_json(\"bcs_polsent.jsonl\", orient=\"records\", lines=True)"
   ]
  },
  {
   "cell_type": "code",
   "execution_count": 2,
   "metadata": {},
   "outputs": [
    {
     "data": {
      "text/html": [
       "<div>\n",
       "<style scoped>\n",
       "    .dataframe tbody tr th:only-of-type {\n",
       "        vertical-align: middle;\n",
       "    }\n",
       "\n",
       "    .dataframe tbody tr th {\n",
       "        vertical-align: top;\n",
       "    }\n",
       "\n",
       "    .dataframe thead th {\n",
       "        text-align: right;\n",
       "    }\n",
       "</style>\n",
       "<table border=\"1\" class=\"dataframe\">\n",
       "  <thead>\n",
       "    <tr style=\"text-align: right;\">\n",
       "      <th></th>\n",
       "      <th>sentence</th>\n",
       "      <th>label</th>\n",
       "      <th>split</th>\n",
       "    </tr>\n",
       "  </thead>\n",
       "  <tbody>\n",
       "    <tr>\n",
       "      <th>0</th>\n",
       "      <td>Ja shvatam da međunarodna zajednica i oni koji...</td>\n",
       "      <td>Negative</td>\n",
       "      <td>test</td>\n",
       "    </tr>\n",
       "    <tr>\n",
       "      <th>1</th>\n",
       "      <td>Npr. mene i moje braće, npr. mi tražimo našu i...</td>\n",
       "      <td>Negative</td>\n",
       "      <td>train</td>\n",
       "    </tr>\n",
       "    <tr>\n",
       "      <th>2</th>\n",
       "      <td>Pa normalno da nije, ali vidite, pustite kad m...</td>\n",
       "      <td>Negative</td>\n",
       "      <td>test</td>\n",
       "    </tr>\n",
       "    <tr>\n",
       "      <th>3</th>\n",
       "      <td>Pomoći ovim ljudima, da danas ti ljudi mogu i ...</td>\n",
       "      <td>Negative</td>\n",
       "      <td>test</td>\n",
       "    </tr>\n",
       "    <tr>\n",
       "      <th>4</th>\n",
       "      <td>Dakle, uz puno uvažavanje, ovo što zna element...</td>\n",
       "      <td>Negative</td>\n",
       "      <td>train</td>\n",
       "    </tr>\n",
       "  </tbody>\n",
       "</table>\n",
       "</div>"
      ],
      "text/plain": [
       "                                            sentence     label  split\n",
       "0  Ja shvatam da međunarodna zajednica i oni koji...  Negative   test\n",
       "1  Npr. mene i moje braće, npr. mi tražimo našu i...  Negative  train\n",
       "2  Pa normalno da nije, ali vidite, pustite kad m...  Negative   test\n",
       "3  Pomoći ovim ljudima, da danas ti ljudi mogu i ...  Negative   test\n",
       "4  Dakle, uz puno uvažavanje, ovo što zna element...  Negative  train"
      ]
     },
     "execution_count": 2,
     "metadata": {},
     "output_type": "execute_result"
    }
   ],
   "source": [
    "data = data.loc[ :, [\"sentence\", \"label\", \"split\"]]\n",
    "data.head()"
   ]
  },
  {
   "cell_type": "code",
   "execution_count": 3,
   "metadata": {},
   "outputs": [],
   "source": [
    "train = data[data.split==\"train\"]\n",
    "test = data[data.split==\"test\"]\n",
    "dev = data[data.split==\"dev\"]"
   ]
  },
  {
   "cell_type": "code",
   "execution_count": 4,
   "metadata": {},
   "outputs": [
    {
     "name": "stdout",
     "output_type": "stream",
     "text": [
      "mkdir: cannot create directory ‘fasttext_data’: File exists\n"
     ]
    }
   ],
   "source": [
    "!mkdir fasttext_data"
   ]
  },
  {
   "cell_type": "code",
   "execution_count": 5,
   "metadata": {},
   "outputs": [],
   "source": [
    "with open(\"fasttext_data/train.txt\", \"w\") as f:\n",
    "    for i, row in train.iterrows():\n",
    "        f.write(f\"__label__{row['label']} {row['sentence']}\\n\")\n",
    "with open(\"fasttext_data/test.txt\", \"w\") as f:\n",
    "    for i, row in test.iterrows():\n",
    "        f.write(f\"__label__{row['label']} {row['sentence']}\\n\")\n",
    "with open(\"fasttext_data/dev.txt\", \"w\") as f:\n",
    "    for i, row in dev.iterrows():\n",
    "        f.write(f\"__label__{row['label']} {row['sentence']}\\n\")"
   ]
  },
  {
   "cell_type": "code",
   "execution_count": 6,
   "metadata": {},
   "outputs": [],
   "source": [
    "import fasttext"
   ]
  },
  {
   "cell_type": "code",
   "execution_count": 7,
   "metadata": {},
   "outputs": [
    {
     "data": {
      "application/vnd.jupyter.widget-view+json": {
       "model_id": "236bcea5190d4ddb94d1ac0b048d4d34",
       "version_major": 2,
       "version_minor": 0
      },
      "text/plain": [
       "  0%|          | 0/17 [00:00<?, ?it/s]"
      ]
     },
     "metadata": {},
     "output_type": "display_data"
    }
   ],
   "source": [
    "import numpy as np\n",
    "\n",
    "epochs = [3, 5, 10, 11, 12, 13, 14, 15, 16, 17, 18, 19, 20, 22, 30, 50, 100]\n",
    "f1s = []\n",
    "f1s_emb = []\n",
    "from tqdm.auto import tqdm\n",
    "for epoch in tqdm(epochs):\n",
    "    model = fasttext.train_supervised(input=\"fasttext_data/train.txt\", epoch=epoch)\n",
    "    y_pred = model.predict(dev.sentence.tolist())[0]\n",
    "    y_pred = [i[0][9:] for i in y_pred]\n",
    "    y_true = dev.label.tolist()\n",
    "\n",
    "    from sklearn.metrics import f1_score\n",
    "\n",
    "    f1 = f1_score(\n",
    "        y_true, y_pred, average=\"macro\", labels=[\"Positive\", \"Neutral\", \"Negative\"]\n",
    "    )\n",
    "    f1s.append(f1)\n",
    "\n",
    "    model = fasttext.train_supervised(\n",
    "        input=\"fasttext_data/train.txt\",\n",
    "        epoch=epoch,\n",
    "        pretrainedVectors=\"fasttext_embeddings/embed.hr-token.ft.sg.vec\",\n",
    "    )\n",
    "    y_pred = model.predict(dev.sentence.tolist())[0]\n",
    "    y_pred = [i[0][9:] for i in y_pred]\n",
    "    y_true = dev.label.tolist()\n",
    "\n",
    "    from sklearn.metrics import f1_score\n",
    "\n",
    "    f1 = f1_score(\n",
    "        y_true, y_pred, average=\"macro\", labels=[\"Positive\", \"Neutral\", \"Negative\"]\n",
    "    )\n",
    "    f1s_emb.append(f1)\n"
   ]
  },
  {
   "cell_type": "code",
   "execution_count": 11,
   "metadata": {},
   "outputs": [
    {
     "data": {
      "image/png": "[encoded data removed]",
      "text/plain": [
       "<Figure size 360x288 with 1 Axes>"
      ]
     },
     "metadata": {
      "needs_background": "light"
     },
     "output_type": "display_data"
    }
   ],
   "source": [
    "import matplotlib.pyplot as plt\n",
    "plt.style.use(\"science no-latex\".split())\n",
    "\n",
    "fig, ax = plt.subplots(figsize=(5,4))\n",
    "\n",
    "performance = pd.DataFrame(data={\"epoch\": epochs, \"f1\": f1s, \"f1_emb\": f1s_emb})\n",
    "performance.plot(x=\"epoch\", y=\"f1\", ax=ax)\n",
    "performance.plot(x=\"epoch\", y=\"f1_emb\", ax=ax)\n",
    "\n",
    "plt.savefig(\"images/003_fasttext_hyperopt.png\")\n",
    "plt.savefig(\"images/003_fasttext_hyperopt.pdf\")"
   ]
  },
  {
   "cell_type": "code",
   "execution_count": null,
   "metadata": {},
   "outputs": [],
   "source": []
  }
 ],
 "metadata": {
  "interpreter": {
   "hash": "7f6f5766036ee03d059e365a942add07f79c17033585e9357ee8157d52fe6bb9"
  },
  "kernelspec": {
   "display_name": "Python 3.8.3 ('base')",
   "language": "python",
   "name": "python3"
  },
  "language_info": {
   "codemirror_mode": {
    "name": "ipython",
    "version": 3
   },
   "file_extension": ".py",
   "mimetype": "text/x-python",
   "name": "python",
   "nbconvert_exporter": "python",
   "pygments_lexer": "ipython3",
   "version": "3.8.3"
  },
  "orig_nbformat": 4
 },
 "nbformat": 4,
 "nbformat_minor": 2
}
