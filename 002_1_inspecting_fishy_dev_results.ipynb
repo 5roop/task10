{
 "cells": [
  {
   "cell_type": "code",
   "execution_count": 3,
   "metadata": {},
   "outputs": [
    {
     "data": {
      "text/plain": [
       "<matplotlib.axes._subplots.AxesSubplot at 0x7f39a1044e50>"
      ]
     },
     "execution_count": 3,
     "metadata": {},
     "output_type": "execute_result"
    },
    {
     "data": {
      "image/png": "[encoded data removed]",
      "text/plain": [
       "<Figure size 432x288 with 1 Axes>"
      ]
     },
     "metadata": {
      "needs_background": "light"
     },
     "output_type": "display_data"
    }
   ],
   "source": [
    "import pandas as pd\n",
    "import matplotlib.pyplot as plt\n",
    "\n",
    "rezs = pd.read_csv(\"results3.csv\")\n",
    "rezs[rezs.model_name == \"classla/bcms-bertic\"].sort_values(by=\"epochs\").plot(x=\"epochs\", y=\"macroF1\")"
   ]
  },
  {
   "cell_type": "code",
   "execution_count": 2,
   "metadata": {},
   "outputs": [
    {
     "data": {
      "text/html": [
       "<div>\n",
       "<style scoped>\n",
       "    .dataframe tbody tr th:only-of-type {\n",
       "        vertical-align: middle;\n",
       "    }\n",
       "\n",
       "    .dataframe tbody tr th {\n",
       "        vertical-align: top;\n",
       "    }\n",
       "\n",
       "    .dataframe thead th {\n",
       "        text-align: right;\n",
       "    }\n",
       "</style>\n",
       "<table border=\"1\" class=\"dataframe\">\n",
       "  <thead>\n",
       "    <tr style=\"text-align: right;\">\n",
       "      <th></th>\n",
       "      <th>model_name</th>\n",
       "      <th>model_type</th>\n",
       "      <th>epochs</th>\n",
       "      <th>batch_size</th>\n",
       "      <th>macroF1</th>\n",
       "    </tr>\n",
       "  </thead>\n",
       "  <tbody>\n",
       "    <tr>\n",
       "      <th>4</th>\n",
       "      <td>classla/bcms-bertic</td>\n",
       "      <td>electra</td>\n",
       "      <td>3</td>\n",
       "      <td>8</td>\n",
       "      <td>0.813184</td>\n",
       "    </tr>\n",
       "    <tr>\n",
       "      <th>22</th>\n",
       "      <td>classla/bcms-bertic</td>\n",
       "      <td>electra</td>\n",
       "      <td>4</td>\n",
       "      <td>8</td>\n",
       "      <td>0.836481</td>\n",
       "    </tr>\n",
       "    <tr>\n",
       "      <th>7</th>\n",
       "      <td>classla/bcms-bertic</td>\n",
       "      <td>electra</td>\n",
       "      <td>5</td>\n",
       "      <td>8</td>\n",
       "      <td>0.856857</td>\n",
       "    </tr>\n",
       "    <tr>\n",
       "      <th>23</th>\n",
       "      <td>classla/bcms-bertic</td>\n",
       "      <td>electra</td>\n",
       "      <td>5</td>\n",
       "      <td>8</td>\n",
       "      <td>0.811622</td>\n",
       "    </tr>\n",
       "    <tr>\n",
       "      <th>24</th>\n",
       "      <td>classla/bcms-bertic</td>\n",
       "      <td>electra</td>\n",
       "      <td>6</td>\n",
       "      <td>8</td>\n",
       "      <td>0.842200</td>\n",
       "    </tr>\n",
       "    <tr>\n",
       "      <th>10</th>\n",
       "      <td>classla/bcms-bertic</td>\n",
       "      <td>electra</td>\n",
       "      <td>9</td>\n",
       "      <td>8</td>\n",
       "      <td>0.831111</td>\n",
       "    </tr>\n",
       "    <tr>\n",
       "      <th>13</th>\n",
       "      <td>classla/bcms-bertic</td>\n",
       "      <td>electra</td>\n",
       "      <td>15</td>\n",
       "      <td>8</td>\n",
       "      <td>0.823338</td>\n",
       "    </tr>\n",
       "    <tr>\n",
       "      <th>16</th>\n",
       "      <td>classla/bcms-bertic</td>\n",
       "      <td>electra</td>\n",
       "      <td>23</td>\n",
       "      <td>8</td>\n",
       "      <td>0.826131</td>\n",
       "    </tr>\n",
       "    <tr>\n",
       "      <th>19</th>\n",
       "      <td>classla/bcms-bertic</td>\n",
       "      <td>electra</td>\n",
       "      <td>33</td>\n",
       "      <td>8</td>\n",
       "      <td>0.842570</td>\n",
       "    </tr>\n",
       "    <tr>\n",
       "      <th>20</th>\n",
       "      <td>classla/bcms-bertic</td>\n",
       "      <td>electra</td>\n",
       "      <td>45</td>\n",
       "      <td>8</td>\n",
       "      <td>0.865799</td>\n",
       "    </tr>\n",
       "    <tr>\n",
       "      <th>21</th>\n",
       "      <td>classla/bcms-bertic</td>\n",
       "      <td>electra</td>\n",
       "      <td>50</td>\n",
       "      <td>8</td>\n",
       "      <td>0.816673</td>\n",
       "    </tr>\n",
       "  </tbody>\n",
       "</table>\n",
       "</div>"
      ],
      "text/plain": [
       "             model_name model_type  epochs  batch_size   macroF1\n",
       "4   classla/bcms-bertic    electra       3           8  0.813184\n",
       "22  classla/bcms-bertic    electra       4           8  0.836481\n",
       "7   classla/bcms-bertic    electra       5           8  0.856857\n",
       "23  classla/bcms-bertic    electra       5           8  0.811622\n",
       "24  classla/bcms-bertic    electra       6           8  0.842200\n",
       "10  classla/bcms-bertic    electra       9           8  0.831111\n",
       "13  classla/bcms-bertic    electra      15           8  0.823338\n",
       "16  classla/bcms-bertic    electra      23           8  0.826131\n",
       "19  classla/bcms-bertic    electra      33           8  0.842570\n",
       "20  classla/bcms-bertic    electra      45           8  0.865799\n",
       "21  classla/bcms-bertic    electra      50           8  0.816673"
      ]
     },
     "execution_count": 2,
     "metadata": {},
     "output_type": "execute_result"
    }
   ],
   "source": [
    "rezs[rezs.model_name == \"classla/bcms-bertic\"].sort_values(by=\"epochs\")"
   ]
  },
  {
   "cell_type": "code",
   "execution_count": null,
   "metadata": {},
   "outputs": [],
   "source": []
  }
 ],
 "metadata": {
  "interpreter": {
   "hash": "7f6f5766036ee03d059e365a942add07f79c17033585e9357ee8157d52fe6bb9"
  },
  "kernelspec": {
   "display_name": "Python 3.8.3 ('base')",
   "language": "python",
   "name": "python3"
  },
  "language_info": {
   "codemirror_mode": {
    "name": "ipython",
    "version": 3
   },
   "file_extension": ".py",
   "mimetype": "text/x-python",
   "name": "python",
   "nbconvert_exporter": "python",
   "pygments_lexer": "ipython3",
   "version": "3.8.3"
  },
  "orig_nbformat": 4
 },
 "nbformat": 4,
 "nbformat_minor": 2
}
