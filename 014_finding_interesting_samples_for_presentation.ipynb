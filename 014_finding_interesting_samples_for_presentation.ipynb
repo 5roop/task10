{
 "cells": [
  {
   "cell_type": "code",
   "execution_count": 2,
   "metadata": {},
   "outputs": [
    {
     "data": {
      "text/plain": [
       "Index(['sentence', 'country', 'type', 'annotator1', 'annotator2', 'gold',\n",
       "       'reconciliation_hard', 'id_meta', 'term', 'doc_id', 'sentence_id',\n",
       "       'date', 'fullname', 'party', 'gender', 'yob', 'edu_y', 'ideology',\n",
       "       'no_seats', 'ruling', 'label', 'origin', 'split'],\n",
       "      dtype='object')"
      ]
     },
     "execution_count": 2,
     "metadata": {},
     "output_type": "execute_result"
    }
   ],
   "source": [
    "import pandas as pd\n",
    "df = pd.read_json(\"bcs_polsent_007.jsonl\", orient=\"records\", lines=True)\n",
    "\n",
    "df.columns"
   ]
  },
  {
   "cell_type": "code",
   "execution_count": 3,
   "metadata": {},
   "outputs": [
    {
     "data": {
      "text/html": [
       "<div>\n",
       "<style scoped>\n",
       "    .dataframe tbody tr th:only-of-type {\n",
       "        vertical-align: middle;\n",
       "    }\n",
       "\n",
       "    .dataframe tbody tr th {\n",
       "        vertical-align: top;\n",
       "    }\n",
       "\n",
       "    .dataframe thead th {\n",
       "        text-align: right;\n",
       "    }\n",
       "</style>\n",
       "<table border=\"1\" class=\"dataframe\">\n",
       "  <thead>\n",
       "    <tr style=\"text-align: right;\">\n",
       "      <th></th>\n",
       "      <th>sentence</th>\n",
       "      <th>label</th>\n",
       "      <th>annotator2</th>\n",
       "    </tr>\n",
       "  </thead>\n",
       "  <tbody>\n",
       "    <tr>\n",
       "      <th>1088</th>\n",
       "      <td>Sada morate da odete kod Pajtića, kažete, dajte ponovo sve papire za navoz, da se popnemo na most.</td>\n",
       "      <td>Negative</td>\n",
       "      <td>M_Negative</td>\n",
       "    </tr>\n",
       "    <tr>\n",
       "      <th>1289</th>\n",
       "      <td>Na primer, veća upotreba komercijalnih dronova i šifrovane komunikacije, kao i napadi noževima i običnim automobilima predstavljali su dodatni izazov međunarodnoj zajednici u borbi protiv terorizma.</td>\n",
       "      <td>Negative</td>\n",
       "      <td>Negative</td>\n",
       "    </tr>\n",
       "  </tbody>\n",
       "</table>\n",
       "</div>"
      ],
      "text/plain": [
       "                                                                                                                                                                                                    sentence  \\\n",
       "1088                                                                                                      Sada morate da odete kod Pajtića, kažete, dajte ponovo sve papire za navoz, da se popnemo na most.   \n",
       "1289  Na primer, veća upotreba komercijalnih dronova i šifrovane komunikacije, kao i napadi noževima i običnim automobilima predstavljali su dodatni izazov međunarodnoj zajednici u borbi protiv terorizma.   \n",
       "\n",
       "         label  annotator2  \n",
       "1088  Negative  M_Negative  \n",
       "1289  Negative    Negative  "
      ]
     },
     "execution_count": 3,
     "metadata": {},
     "output_type": "execute_result"
    }
   ],
   "source": [
    "pd.set_option(\"display.max_colwidth\", None)\n",
    "df[[\"sentence\", \"label\", \"annotator2\"]].sample(2)"
   ]
  },
  {
   "cell_type": "code",
   "execution_count": 4,
   "metadata": {},
   "outputs": [
    {
     "data": {
      "text/html": [
       "<div>\n",
       "<style scoped>\n",
       "    .dataframe tbody tr th:only-of-type {\n",
       "        vertical-align: middle;\n",
       "    }\n",
       "\n",
       "    .dataframe tbody tr th {\n",
       "        vertical-align: top;\n",
       "    }\n",
       "\n",
       "    .dataframe thead th {\n",
       "        text-align: right;\n",
       "    }\n",
       "</style>\n",
       "<table border=\"1\" class=\"dataframe\">\n",
       "  <thead>\n",
       "    <tr style=\"text-align: right;\">\n",
       "      <th></th>\n",
       "      <th>sentence</th>\n",
       "      <th>label</th>\n",
       "    </tr>\n",
       "  </thead>\n",
       "  <tbody>\n",
       "    <tr>\n",
       "      <th>1406</th>\n",
       "      <td>I to je tačno, to je klasičan sukob interesa.</td>\n",
       "      <td>Negative</td>\n",
       "    </tr>\n",
       "    <tr>\n",
       "      <th>1935</th>\n",
       "      <td>Može propasti država, neće propasti banka, oni su vazda deblji, oni ... iz svega izađu jači.</td>\n",
       "      <td>Negative</td>\n",
       "    </tr>\n",
       "    <tr>\n",
       "      <th>1193</th>\n",
       "      <td>Znam ja da je bilo vas baš briga za tih 10.000 ljudi.</td>\n",
       "      <td>Negative</td>\n",
       "    </tr>\n",
       "    <tr>\n",
       "      <th>1569</th>\n",
       "      <td>EU projekat, ovaj sukob dolara i evra neće preživeti.</td>\n",
       "      <td>Negative</td>\n",
       "    </tr>\n",
       "    <tr>\n",
       "      <th>199</th>\n",
       "      <td>Mi ne očekujemo od Zorane ništa dobro i ništa pametno.</td>\n",
       "      <td>Negative</td>\n",
       "    </tr>\n",
       "    <tr>\n",
       "      <th>1246</th>\n",
       "      <td>Može se još mnogo toga govoriti, ali nemam vremena.</td>\n",
       "      <td>Neutral</td>\n",
       "    </tr>\n",
       "    <tr>\n",
       "      <th>62</th>\n",
       "      <td>24 milijarde je od '93. do 2011. u Hrvatsku uloženo.</td>\n",
       "      <td>Neutral</td>\n",
       "    </tr>\n",
       "    <tr>\n",
       "      <th>999</th>\n",
       "      <td>Ako se ne varam, to je bilo 29. aprila 2008. godine.</td>\n",
       "      <td>Neutral</td>\n",
       "    </tr>\n",
       "    <tr>\n",
       "      <th>2581</th>\n",
       "      <td>To su ljudi koji sjede i koji znaju o čemu govorimo.</td>\n",
       "      <td>Neutral</td>\n",
       "    </tr>\n",
       "    <tr>\n",
       "      <th>186</th>\n",
       "      <td>Dve su ključne tačke izmene i dopune Zakona o policiji.</td>\n",
       "      <td>Neutral</td>\n",
       "    </tr>\n",
       "    <tr>\n",
       "      <th>418</th>\n",
       "      <td>Dragi prijatelji ja sam uvjeren u ovo, reforma za više zdravlja.</td>\n",
       "      <td>Positive</td>\n",
       "    </tr>\n",
       "    <tr>\n",
       "      <th>1703</th>\n",
       "      <td>Bijega iz zatvora u protekle dvije godine nije bilo niti jednoga.</td>\n",
       "      <td>Positive</td>\n",
       "    </tr>\n",
       "    <tr>\n",
       "      <th>1147</th>\n",
       "      <td>Trudimo se da stvorimo jedno potpuno drugačije i zdravije društvo.</td>\n",
       "      <td>Positive</td>\n",
       "    </tr>\n",
       "    <tr>\n",
       "      <th>1293</th>\n",
       "      <td>Podignute su im značajno plate i dizaće se plate iz godine u godinu.</td>\n",
       "      <td>Positive</td>\n",
       "    </tr>\n",
       "  </tbody>\n",
       "</table>\n",
       "</div>"
      ],
      "text/plain": [
       "                                                                                          sentence  \\\n",
       "1406                                                 I to je tačno, to je klasičan sukob interesa.   \n",
       "1935  Može propasti država, neće propasti banka, oni su vazda deblji, oni ... iz svega izađu jači.   \n",
       "1193                                         Znam ja da je bilo vas baš briga za tih 10.000 ljudi.   \n",
       "1569                                         EU projekat, ovaj sukob dolara i evra neće preživeti.   \n",
       "199                                         Mi ne očekujemo od Zorane ništa dobro i ništa pametno.   \n",
       "1246                                           Može se još mnogo toga govoriti, ali nemam vremena.   \n",
       "62                                            24 milijarde je od '93. do 2011. u Hrvatsku uloženo.   \n",
       "999                                           Ako se ne varam, to je bilo 29. aprila 2008. godine.   \n",
       "2581                                          To su ljudi koji sjede i koji znaju o čemu govorimo.   \n",
       "186                                        Dve su ključne tačke izmene i dopune Zakona o policiji.   \n",
       "418                               Dragi prijatelji ja sam uvjeren u ovo, reforma za više zdravlja.   \n",
       "1703                             Bijega iz zatvora u protekle dvije godine nije bilo niti jednoga.   \n",
       "1147                            Trudimo se da stvorimo jedno potpuno drugačije i zdravije društvo.   \n",
       "1293                          Podignute su im značajno plate i dizaće se plate iz godine u godinu.   \n",
       "\n",
       "         label  \n",
       "1406  Negative  \n",
       "1935  Negative  \n",
       "1193  Negative  \n",
       "1569  Negative  \n",
       "199   Negative  \n",
       "1246   Neutral  \n",
       "62     Neutral  \n",
       "999    Neutral  \n",
       "2581   Neutral  \n",
       "186    Neutral  \n",
       "418   Positive  \n",
       "1703  Positive  \n",
       "1147  Positive  \n",
       "1293  Positive  "
      ]
     },
     "execution_count": 4,
     "metadata": {},
     "output_type": "execute_result"
    }
   ],
   "source": [
    "example_idxs = [1406, 1935, 1193, 1569,199, # Negative\n",
    "                1246, 62, 999, 2581, 186, # Neutral\n",
    "                418, 1703, 1147, 1293, # Positive\n",
    "                ]\n",
    "\n",
    "df.loc[example_idxs, [\"sentence\", \"label\"]]"
   ]
  },
  {
   "cell_type": "code",
   "execution_count": 5,
   "metadata": {},
   "outputs": [
    {
     "name": "stdout",
     "output_type": "stream",
     "text": [
      "\\begin{tabular}{ll}\n",
      "\\toprule\n",
      "                                                                                    sentence &    label \\\\\n",
      "\\midrule\n",
      "Može propasti država, neće propasti banka, oni su vazda deblji, oni ... iz svega izađu jači. & Negative \\\\\n",
      "                                        Ako se ne varam, to je bilo 29. aprila 2008. godine. &  Neutral \\\\\n",
      "                            Dragi prijatelji ja sam uvjeren u ovo, reforma za više zdravlja. & Positive \\\\\n",
      "\\bottomrule\n",
      "\\end{tabular}\n",
      "\n"
     ]
    }
   ],
   "source": [
    "print(df.loc[[1935, 999, 418], [\"sentence\", \"label\"]].to_latex(index=False))"
   ]
  },
  {
   "cell_type": "code",
   "execution_count": null,
   "metadata": {},
   "outputs": [],
   "source": []
  }
 ],
 "metadata": {
  "kernelspec": {
   "display_name": "Python 3.9.7 ('base')",
   "language": "python",
   "name": "python3"
  },
  "language_info": {
   "codemirror_mode": {
    "name": "ipython",
    "version": 3
   },
   "file_extension": ".py",
   "mimetype": "text/x-python",
   "name": "python",
   "nbconvert_exporter": "python",
   "pygments_lexer": "ipython3",
   "version": "3.9.7"
  },
  "orig_nbformat": 4,
  "vscode": {
   "interpreter": {
    "hash": "2d30c88cb7145d662123f76f8c64609bc18e52940d2861adec2407b68f2e334f"
   }
  }
 },
 "nbformat": 4,
 "nbformat_minor": 2
}
